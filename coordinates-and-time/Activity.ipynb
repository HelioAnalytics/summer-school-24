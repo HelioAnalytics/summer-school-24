{
 "cells": [
  {
   "cell_type": "markdown",
   "id": "cadca5b0-a455-4a0f-bf83-33a705c0c017",
   "metadata": {},
   "source": [
    "<center><font style=\"font-size:16pt; font-weight: bold\">\n",
    "Time and Space Transformations\n",
    "</font>\n",
    "</center>\n",
    "\n",
    "<center><font style=\"font-size:16pt\">\n",
    "Wednesday, May 22nd, 9:05-9:55 and 10:05-10:55 Mountain Time\n",
    "</font>\n",
    "</center>\n",
    "\n",
    "# 1. Overview\n",
    "\n",
    "Target audience: Students with limited experience with\n",
    "\n",
    "* manipulation and transformation of time representations and\n",
    "* transforming data between Heliophysics coordinate frames\n",
    "\n",
    "Examples are given using native Python libraries and PyHC packages.\n",
    "\n",
    "The objective of this session is for students to\n",
    "* learn about different ways to approach common Heliophysics time and coordinate system-related problems and\n",
    "* try problems, ask questions, and hear answers and opinions from more advanced PyHC developers.\n",
    "\n",
    "# 2. Outline\n",
    "\n",
    "This is a self-guided working session. Students should read the introductory notes, attempt problems, and ask questions.\n",
    "\n",
    "1. Students work in groups on problems of their choosing. Students are welcome to create their own problems and attempt to answer them. Instructors will circulate and answer questions (30 min).\n",
    "2. Wrap-up - Instructor comments on common questions and asks selected groups to present their solution by screen sharing in Zoom. There will also be an opportunity to compare student approaches (25 min). You can use an installed package (use `!pip list` to see available packages). To install a package, you can use `!pip install PACKAGE` in your Jupyter Notebook.\n",
    "\n",
    "# 3. Time\n",
    "\n",
    "_9:05-9:55 Mountain Time_\n",
    "\n",
    "Most PyHC packages use, in some way, one or more of `datetime`, Pandas, or NumPy for time representations. Some packages extend the functionality `datetime` and NumPy, for example SpacePy's `TickTock` and AstroPy's `Time` (also used by SunPy).\n",
    "\n",
    "## 3.1 Parsing\n",
    "\n",
    "### 3.1.1 Known Time String Format\n",
    "\n",
    "The most common task is to parse an [ISO 8601](https://en.wikipedia.org/wiki/ISO_8601) time string into a Python `datetime` object. (`datetime` can also parse non--ISO 8601 time strings).\n",
    "\n",
    "If you know the format of the time string and it has millisecond precision or less, a reliable approach it to use [`datetime.strptime`](https://docs.python.org/3/library/datetime.html). For example,\n"
   ]
  },
  {
   "cell_type": "code",
   "execution_count": 18,
   "id": "fce83071-94c7-4d29-8a09-43e3a3c28a7b",
   "metadata": {},
   "outputs": [
    {
     "name": "stdout",
     "output_type": "stream",
     "text": [
      "2008-09-03 20:56:35.450686\n"
     ]
    }
   ],
   "source": [
    "import datetime \n",
    "dt = datetime.datetime.strptime(\"2008-09-03T20:56:35.450686Z\", \"%Y-%m-%dT%H:%M:%S.%fZ\")\n",
    "print(dt)"
   ]
  },
  {
   "cell_type": "code",
   "execution_count": 2,
   "id": "4036e9ab-70b4-4157-8bc3-354702249d00",
   "metadata": {},
   "outputs": [
    {
     "name": "stdout",
     "output_type": "stream",
     "text": [
      "2008-09-03 20:56:35.450000\n"
     ]
    }
   ],
   "source": [
    "dt = datetime.datetime.strptime(\"2008-09-03T20:56:35.450Z\", \"%Y-%m-%dT%H:%M:%S.%fZ\")\n",
    "print(dt)"
   ]
  },
  {
   "cell_type": "code",
   "execution_count": 3,
   "id": "65d964a6-dc17-4c1d-ae4c-dc9ec71de92c",
   "metadata": {},
   "outputs": [
    {
     "name": "stdout",
     "output_type": "stream",
     "text": [
      "2008-09-03 20:56:35\n"
     ]
    }
   ],
   "source": [
    "dt = datetime.datetime.strptime(\"2008-09-03T20:56:35Z\", \"%Y-%m-%dT%H:%M:%SZ\")\n",
    "print(dt)"
   ]
  },
  {
   "cell_type": "code",
   "execution_count": 4,
   "id": "f1500918-706d-4069-a1cc-45e7f2c1d7b6",
   "metadata": {},
   "outputs": [
    {
     "name": "stdout",
     "output_type": "stream",
     "text": [
      "2008-09-03 20:56:35\n"
     ]
    }
   ],
   "source": [
    "dt = datetime.datetime.strptime(\"2008-09-03T20:56:35.Z\", \"%Y-%m-%dT%H:%M:%S.Z\")\n",
    "print(dt)"
   ]
  },
  {
   "cell_type": "code",
   "execution_count": 21,
   "id": "f2abc28f-f63a-4b02-855c-5268ea01700e",
   "metadata": {},
   "outputs": [
    {
     "name": "stdout",
     "output_type": "stream",
     "text": [
      "2008-01-02 20:56:35.450686\n"
     ]
    }
   ],
   "source": [
    "dt = datetime.datetime.strptime(\"2008-002T20:56:35.450686Z\", \"%Y-%jT%H:%M:%S.%fZ\")\n",
    "print(dt)"
   ]
  },
  {
   "cell_type": "markdown",
   "id": "ea2300fa-f9bb-4ac1-963a-df8b43f9c407",
   "metadata": {},
   "source": [
    "For precisions higher than a millisecond, [NumPy's datetime64](https://numpy.org/doc/stable/reference/arrays.datetime.html) can be used.\n",
    "\n",
    "**Problems**\n",
    "\n",
    "1. Write a program that uses the output of\n",
    "\n",
    "   ```\n",
    "   datetime.datetime.strptime(\"2008-002T20:56:35.450686Z\", \"%Y-%jT%H:%M:%S.%fZ\")\n",
    "   ```\n",
    "\n",
    "   and prints `01/02/2008 at 20:56:35.450686`. (You will need to refer to the [`datetime`](https://docs.python.org/3/library/datetime.html) documentation.) You program should work for any time string that has the form of the given string.\n",
    "\n",
    "2. Repeat the previous problem without using `datetime`."
   ]
  },
  {
   "cell_type": "markdown",
   "id": "6f2edbfc-0b9e-438c-976c-aee2470c3063",
   "metadata": {},
   "source": [
    "### 3.1.2 Unknown Time String Format\n",
    "\n",
    "(This section is advanced and may be skipped.)\n",
    "\n",
    "[ISO 8601](https://en.wikipedia.org/wiki/ISO_8601) is a complex standard. If you have to parse a time string and don't know its format beyond \"ISO 8601\", you are likely to run into issues because not all packages fully implement the standard. For example, `pandas.to_datetime('2001-001T00Z')` fails.\n",
    "\n",
    "Parsers in the PyHC community:\n",
    "\n",
    "* [SunPy's `parse_time`](https://docs.sunpy.org/en/stable/how_to/parse_time.html)\n",
    "* [AstroPy's `Time`](https://docs.astropy.org/en/stable/api/astropy.time.Time.html#astropy.time.Time)\n",
    "* [SpacePy's `Ticktock`](https://spacepy.github.io/autosummary/spacepy.time.Ticktock.html)\n",
    "\n",
    "Some code samples:\n",
    "\n",
    "* [SpacePy's time.py](https://github.com/spacepy/spacepy/blob/main/spacepy/time.py#L1931)\n",
    "* [`hapiclient`'s hapitime.py](https://github.com/hapi-server/client-python/blob/master/hapiclient/hapitime.py#L166)\n",
    "\n",
    "References\n",
    "\n",
    "* A comprehensive list of Python packages that deal with [ISO 8601](https://en.wikipedia.org/wiki/ISO_8601) at https://github.com/closeio/ciso8601\n",
    "* https://stackoverflow.com/questions/127803/how-do-i-parse-an-iso-8601-formatted-date-and-time\n",
    "* https://wiki.python.org/moin/WorkingWithTime\n",
    "\n",
    "**Problem**\n",
    "\n",
    "Suppose you are asked to write a function that takes an input of an [ISO 8601](https://en.wikipedia.org/wiki/ISO_8601) formatted time string and produces an output of a `datetime` object. How would you approach the problem? What tests would you use? How would you handle errors?"
   ]
  },
  {
   "cell_type": "markdown",
   "id": "5b7648d3-9502-4643-8967-b9ada117977c",
   "metadata": {},
   "source": [
    "## 3.2 Generating\n",
    "\n",
    "A common task is to generate a list of timestamps. The following example use\n",
    "\n",
    "* `datetime()`\n",
    "* `pandas.date_range()`\n",
    "* `datetime64` values\n",
    "* `spacepy.time.tickrange()`\n",
    "\n",
    "To generate a list of 10 days."
   ]
  },
  {
   "cell_type": "code",
   "execution_count": 22,
   "id": "063f2f25-ce12-4dfc-9ebe-bce5b352e676",
   "metadata": {},
   "outputs": [
    {
     "name": "stdout",
     "output_type": "stream",
     "text": [
      "Start: 2022-02-01T00:00:00Z\n",
      "End:   2022-02-10T00:00:00Z\n",
      "----------------------------------------\n",
      "datetime.timedelta\n",
      "----------------------------------------\n",
      "2022-02-01 00:00:00\n",
      "2022-02-02 00:00:00\n",
      "2022-02-03 00:00:00\n",
      "2022-02-04 00:00:00\n",
      "2022-02-05 00:00:00\n",
      "2022-02-06 00:00:00\n",
      "2022-02-07 00:00:00\n",
      "2022-02-08 00:00:00\n",
      "2022-02-09 00:00:00\n",
      "2022-02-10 00:00:00\n"
     ]
    }
   ],
   "source": [
    "from datetime import datetime, timedelta\n",
    "\n",
    "time_str_start = '2022-02-01T00:00:00Z'\n",
    "time_str_end = '2022-02-10T00:00:00Z'\n",
    "time = datetime.fromisoformat(time_str_start[0:-1])\n",
    "print(f'Start: {time_str_start}')\n",
    "print(f'End:   {time_str_end}')\n",
    "\n",
    "print(40*\"-\" + \"\\ndatetime.timedelta\\n\" + 40*\"-\")\n",
    "delta = timedelta(days=1)\n",
    "for i in range(10):\n",
    "  print(time)\n",
    "  time += delta\n",
    "# or time = [time + delta for i in range(10)]"
   ]
  },
  {
   "cell_type": "code",
   "execution_count": 23,
   "id": "b3cd5f36-d1d1-40ec-b4ee-fae5b7687653",
   "metadata": {},
   "outputs": [
    {
     "name": "stdout",
     "output_type": "stream",
     "text": [
      "----------------------------------------\n",
      "pandas.date_range\n",
      "----------------------------------------\n",
      "2022-02-01 00:00:00+00:00\n",
      "2022-02-02 00:00:00+00:00\n",
      "2022-02-03 00:00:00+00:00\n",
      "2022-02-04 00:00:00+00:00\n",
      "2022-02-05 00:00:00+00:00\n",
      "2022-02-06 00:00:00+00:00\n",
      "2022-02-07 00:00:00+00:00\n",
      "2022-02-08 00:00:00+00:00\n",
      "2022-02-09 00:00:00+00:00\n",
      "2022-02-10 00:00:00+00:00\n"
     ]
    }
   ],
   "source": [
    "print(40*\"-\" + \"\\npandas.date_range\\n\" + 40*\"-\")\n",
    "# https://pandas.pydata.org/docs/reference/api/pandas.date_range.html\n",
    "import numpy as np\n",
    "import pandas as pd\n",
    "timestamp_range = pd.date_range(start=time_str_start, end=time_str_end)\n",
    "for time in timestamp_range:\n",
    "  #print(time.to_datetime64().astype(np.int64))\n",
    "  print(time.to_pydatetime())"
   ]
  },
  {
   "cell_type": "code",
   "execution_count": 9,
   "id": "b41b7982-d7f6-42eb-b7c3-86a7fcf97bbb",
   "metadata": {},
   "outputs": [
    {
     "name": "stdout",
     "output_type": "stream",
     "text": [
      "----------------------------------------\n",
      "NumPy datetime64\n",
      "----------------------------------------\n",
      "2022-02-02\n",
      "2022-02-03\n",
      "2022-02-04\n",
      "2022-02-05\n",
      "2022-02-06\n",
      "2022-02-07\n",
      "2022-02-08\n",
      "2022-02-09\n",
      "2022-02-10\n",
      "2022-02-11\n"
     ]
    }
   ],
   "source": [
    "# https://numpy.org/doc/stable/reference/arrays.datetime.html\n",
    "print(40*\"-\" + \"\\nNumPy datetime64\\n\" + 40*\"-\")\n",
    "time_o = np.array('2022-02-02T00:00:00', dtype='datetime64[D]')\n",
    "times = np.arange(time_o, time_o + 10, dtype='datetime64[D]')\n",
    "for time in times:\n",
    "  print(time)"
   ]
  },
  {
   "cell_type": "code",
   "execution_count": 10,
   "id": "1456784c-715a-4b49-80d9-e8c41773ce5e",
   "metadata": {},
   "outputs": [
    {
     "name": "stdout",
     "output_type": "stream",
     "text": [
      "----------------------------------------\n",
      "spacepy.time.tickrange\n",
      "----------------------------------------\n",
      "2022-02-01 00:00:00\n",
      "2022-02-02 00:00:00\n",
      "2022-02-03 00:00:00\n",
      "2022-02-04 00:00:00\n",
      "2022-02-05 00:00:00\n",
      "2022-02-06 00:00:00\n",
      "2022-02-07 00:00:00\n",
      "2022-02-08 00:00:00\n",
      "2022-02-09 00:00:00\n",
      "2022-02-10 00:00:00\n"
     ]
    }
   ],
   "source": [
    "# https://spacepy.github.io/autosummary/spacepy.time.tickrange.html#spacepy.time.tickrange\n",
    "print(40*\"-\" + \"\\nspacepy.time.tickrange\\n\" + 40*\"-\")\n",
    "import spacepy.time\n",
    "times = spacepy.time.tickrange(time_str_start, time_str_end, deltadays=1, dtype=None)\n",
    "for time in times:\n",
    "  print(time.UTC[0])"
   ]
  },
  {
   "cell_type": "markdown",
   "id": "63ee6597-630d-46c7-8f6e-fcd8218e9386",
   "metadata": {},
   "source": [
    "**Problem**\n",
    "\n",
    "Using any library, generate a `list` of `datetime` objects that start on `2024-01-01T00:00:00Z`, increments by one hour, and ends on a user-specified timestamp. You code should work for any user-specified end timestamp in the form `2022-02-01T00:00:00Z`. Be prepared to discuss the advantages/disadvantages of your approach."
   ]
  },
  {
   "cell_type": "markdown",
   "id": "9db8d16f-a924-4468-9719-8ddab561cd6c",
   "metadata": {},
   "source": [
    "## 3.3 Transforming\n",
    "\n",
    "PyHC packages that implement time transformations include\n",
    "\n",
    "1. [SpacePy](https://spacepy.github.io/time.html)\n",
    "2. SunPy (primarily uses [AstroPy](https://docs.astropy.org/en/stable/api/astropy.time.Time.html#astropy.time.Time)); see also [2022 PyHC Summer School SunPy tutorial](\n",
    "https://github.com/heliophysicsPy/summer-school/blob/main/sunpy-tutorial/part-3-coordinates.ipynb)"
   ]
  },
  {
   "cell_type": "code",
   "execution_count": 11,
   "id": "c49ccbdf-9af9-4eca-8318-99642bdc0d18",
   "metadata": {},
   "outputs": [
    {
     "name": "stdout",
     "output_type": "stream",
     "text": [
      "Ticktock( ['2000-03-20T12:06:40Z'], dtype=ISO)\n"
     ]
    }
   ],
   "source": [
    "import spacepy.time\n",
    "\n",
    "time_string = '2000-03-20T12:06:40Z'\n",
    "# Basic usage\n",
    "time =  spacepy.time.Ticktock(time_string, 'ISO')\n",
    "print(time)"
   ]
  },
  {
   "cell_type": "code",
   "execution_count": 12,
   "id": "16951338-501f-40e8-bfb4-469b09807661",
   "metadata": {},
   "outputs": [
    {
     "name": "stdout",
     "output_type": "stream",
     "text": [
      "\n",
      "Time: 2000-03-20T12:06:40Z\n",
      "\n",
      "System   Value\n",
      "------------------------------------------\n",
      "CDF      Ticktock( [6.31207732e+13], dtype=CDF)\n",
      "ISO      Ticktock( ['2000-03-20T12:06:40'], dtype=ISO)\n",
      "UTC      Ticktock( [datetime.datetime(2000, 3, 20, 12, 6, 40)], dtype=UTC)\n",
      "TAI      Ticktock( [1.33224523e+09], dtype=TAI)\n",
      "GPS      Ticktock( [6.37589213e+08], dtype=GPS)\n",
      "UNX      Ticktock( [9.53554e+08], dtype=UNX)\n",
      "JD       Ticktock( [2451624.00462963], dtype=JD)\n",
      "MJD      Ticktock( [51623.50462963], dtype=MJD)\n",
      "RDT      Ticktock( [730199.50462963], dtype=RDT)\n",
      "GPS      Ticktock( [6.37589213e+08], dtype=GPS)\n",
      "APT      Ticktock( [6.37589213e+08], dtype=APT)\n"
     ]
    }
   ],
   "source": [
    "# Print time_string in different systems available in SpacePy.\n",
    "# SpacePy refers to the following as \"systems\". AstroPy has some as \"formats\" and\n",
    "# others as \"scales\".\n",
    "systems = ['CDF', 'ISO', 'UTC', 'TAI', 'GPS', 'UNX', 'JD', 'MJD', 'RDT', 'GPS', 'APT']\n",
    "print(f\"\\nTime: {time_string}\\n\")\n",
    "print(f\"System   Value\")\n",
    "print(f\"------------------------------------------\")\n",
    "for system in systems:\n",
    "  print(f'{system:3s}      {time.convert(system)}')"
   ]
  },
  {
   "cell_type": "code",
   "execution_count": 14,
   "id": "4fcfdabc-924a-4ecc-a4e7-152c96ce6dc7",
   "metadata": {},
   "outputs": [
    {
     "name": "stdout",
     "output_type": "stream",
     "text": [
      "2451624.0046296297\n"
     ]
    }
   ],
   "source": [
    "from astropy.time import Time\n",
    "\n",
    "time_string = '2000-01-01T00:00Z'\n",
    "time_string = '2000-03-20T12:06:40Z'\n",
    "time_object = Time(time_string, precision=9)\n",
    "\n",
    "# Basic usage\n",
    "t = time_object.tt   # https://docs.astropy.org/en/stable/time/index.html#id6\n",
    "val = time_object.jd # https://docs.astropy.org/en/stable/time/#time-format\n",
    "print(val)"
   ]
  },
  {
   "cell_type": "code",
   "execution_count": 15,
   "id": "a0d22544-54f5-46db-953e-77bc81d67640",
   "metadata": {},
   "outputs": [
    {
     "name": "stdout",
     "output_type": "stream",
     "text": [
      "\n",
      "Time: 2000-03-20T12:06:40.000000000\n",
      "\n",
      "Format        Scale Value\n",
      "------------------------------------------\n",
      "jd            tai   2451624.005\n",
      "jd            tcb   2451624.0055039953\n",
      "jd            tcg   2451624.0053784098\n",
      "jd            tdb   2451624.005372518\n",
      "jd            tt    2451624.0053725\n",
      "jd            ut1   2451624.0046329196\n",
      "jd            utc   2451624.0046296297\n",
      "mjd           tai   51623.505\n",
      "mjd           tcb   51623.50550399557\n",
      "mjd           tcg   51623.505378409616\n",
      "mjd           tdb   51623.50537251841\n",
      "mjd           tt    51623.5053725\n",
      "mjd           ut1   51623.50463291946\n",
      "mjd           utc   51623.50462962963\n",
      "decimalyear   tai   2000.2172267759563\n",
      "decimalyear   tcb   2000.2172281529934\n",
      "decimalyear   tcg   2000.2172278098624\n",
      "decimalyear   tdb   2000.2172277937661\n",
      "decimalyear   tt    2000.217227793716\n",
      "decimalyear   ut1   2000.217225773004\n",
      "decimalyear   utc   2000.2172257640154\n",
      "unix          tai   953554000.0\n",
      "unix          tcb   953554000.0\n",
      "unix          tcg   953554000.0\n",
      "unix          tdb   953554000.0\n",
      "unix          tt    953554000.0\n",
      "unix          ut1   953554000.0\n",
      "unix          utc   953554000.0\n",
      "unix_tai      tai   953554032.0\n",
      "unix_tai      tcb   953554032.0\n",
      "unix_tai      tcg   953554032.0\n",
      "unix_tai      tdb   953554032.0\n",
      "unix_tai      tt    953554032.0\n",
      "unix_tai      ut1   953554032.0\n",
      "unix_tai      utc   953554032.0\n",
      "cxcsec        tai   69941264.184\n",
      "cxcsec        tcb   69941264.184\n",
      "cxcsec        tcg   69941264.184\n",
      "cxcsec        tdb   69941264.184\n",
      "cxcsec        tt    69941264.184\n",
      "cxcsec        ut1   69941264.184\n",
      "cxcsec        utc   69941264.184\n",
      "gps           tai   637589213.0\n",
      "gps           tcb   637589213.0\n",
      "gps           tcg   637589213.0\n",
      "gps           tdb   637589213.0\n",
      "gps           tt    637589213.0\n",
      "gps           ut1   637589213.0\n",
      "gps           utc   637589213.0\n",
      "plot_date     tai   11036.50462962963\n",
      "plot_date     tcb   11036.50462962963\n",
      "plot_date     tcg   11036.50462962963\n",
      "plot_date     tdb   11036.50462962963\n",
      "plot_date     tt    11036.50462962963\n",
      "plot_date     ut1   11036.50462962963\n",
      "plot_date     utc   11036.50462962963\n",
      "stardate      tai   -292264.05262215546\n",
      "stardate      tcb   -292264.05262215546\n",
      "stardate      tcg   -292264.05262215546\n",
      "stardate      tdb   -292264.05262215546\n",
      "stardate      tt    -292264.05262215546\n",
      "stardate      ut1   -292264.05262215546\n",
      "stardate      utc   -292264.05262215546\n",
      "datetime      tai   2000-03-20 12:07:12\n",
      "datetime      tcb   2000-03-20 12:07:55.545217\n",
      "datetime      tcg   2000-03-20 12:07:44.694591\n",
      "datetime      tdb   2000-03-20 12:07:44.185591\n",
      "datetime      tt    2000-03-20 12:07:44.184000\n",
      "datetime      ut1   2000-03-20 12:06:40.284242\n",
      "datetime      utc   2000-03-20 12:06:40\n",
      "ymdhms        tai   (2000, 3, 20, 12, 7, 12.)\n",
      "ymdhms        tcb   (2000, 3, 20, 12, 7, 55.54521729)\n",
      "ymdhms        tcg   (2000, 3, 20, 12, 7, 44.69459057)\n",
      "ymdhms        tdb   (2000, 3, 20, 12, 7, 44.18559054)\n",
      "ymdhms        tt    (2000, 3, 20, 12, 7, 44.184)\n",
      "ymdhms        ut1   (2000, 3, 20, 12, 6, 40.28424153)\n",
      "ymdhms        utc   (2000, 3, 20, 12, 6, 40.)\n",
      "iso           tai   2000-03-20 12:07:12.000000000\n",
      "iso           tcb   2000-03-20 12:07:55.545217286\n",
      "iso           tcg   2000-03-20 12:07:44.694590568\n",
      "iso           tdb   2000-03-20 12:07:44.185590542\n",
      "iso           tt    2000-03-20 12:07:44.184000000\n",
      "iso           ut1   2000-03-20 12:06:40.284241531\n",
      "iso           utc   2000-03-20 12:06:40.000000000\n",
      "isot          tai   2000-03-20T12:07:12.000000000\n",
      "isot          tcb   2000-03-20T12:07:55.545217286\n",
      "isot          tcg   2000-03-20T12:07:44.694590568\n",
      "isot          tdb   2000-03-20T12:07:44.185590542\n",
      "isot          tt    2000-03-20T12:07:44.184000000\n",
      "isot          ut1   2000-03-20T12:06:40.284241531\n",
      "isot          utc   2000-03-20T12:06:40.000000000\n",
      "yday          tai   2000:080:12:07:12.000000000\n",
      "yday          tcb   2000:080:12:07:55.545217286\n",
      "yday          tcg   2000:080:12:07:44.694590568\n",
      "yday          tdb   2000:080:12:07:44.185590542\n",
      "yday          tt    2000:080:12:07:44.184000000\n",
      "yday          ut1   2000:080:12:06:40.284241531\n",
      "yday          utc   2000:080:12:06:40.000000000\n",
      "datetime64    tai   2000-03-20T12:07:12.000000000\n",
      "datetime64    tcb   2000-03-20T12:07:55.545217286\n",
      "datetime64    tcg   2000-03-20T12:07:44.694590568\n",
      "datetime64    tdb   2000-03-20T12:07:44.185590542\n",
      "datetime64    tt    2000-03-20T12:07:44.184000000\n",
      "datetime64    ut1   2000-03-20T12:06:40.284241531\n",
      "datetime64    utc   2000-03-20T12:06:40.000000000\n",
      "fits          tai   2000-03-20T12:07:12.000000000\n",
      "fits          tcb   2000-03-20T12:07:55.545217286\n",
      "fits          tcg   2000-03-20T12:07:44.694590568\n",
      "fits          tdb   2000-03-20T12:07:44.185590542\n",
      "fits          tt    2000-03-20T12:07:44.184000000\n",
      "fits          ut1   2000-03-20T12:06:40.284241531\n",
      "fits          utc   2000-03-20T12:06:40.000000000\n",
      "byear         tai   2000.217586035144\n",
      "byear         tcb   2000.217587415038\n",
      "byear         tcg   2000.217587071195\n",
      "byear         tdb   2000.2175870550655\n",
      "byear         tt    2000.2175870550152\n",
      "byear         ut1   2000.2175850301107\n",
      "byear         utc   2000.2175850211033\n",
      "jyear         tai   2000.2163039014374\n",
      "jyear         tcb   2000.216305281302\n",
      "jyear         tcg   2000.2163049374665\n",
      "jyear         tdb   2000.2163049213373\n",
      "jyear         tt    2000.2163049212868\n",
      "jyear         ut1   2000.2163028964255\n",
      "jyear         utc   2000.2163028874186\n",
      "byear_str     tai   B2000.217586035\n",
      "byear_str     tcb   B2000.217587415\n",
      "byear_str     tcg   B2000.217587071\n",
      "byear_str     tdb   B2000.217587055\n",
      "byear_str     tt    B2000.217587055\n",
      "byear_str     ut1   B2000.217585030\n",
      "byear_str     utc   B2000.217585021\n",
      "jyear_str     tai   J2000.216303901\n",
      "jyear_str     tcb   J2000.216305281\n",
      "jyear_str     tcg   J2000.216304937\n",
      "jyear_str     tdb   J2000.216304921\n",
      "jyear_str     tt    J2000.216304921\n",
      "jyear_str     ut1   J2000.216302896\n",
      "jyear_str     utc   J2000.216302887\n",
      "jd1           tai   2451624.0\n",
      "jd1           tcb   2451624.0\n",
      "jd1           tcg   2451624.0\n",
      "jd1           tdb   2451624.0\n",
      "jd1           tt    2451624.0\n",
      "jd1           ut1   2451624.0\n",
      "jd1           utc   2451624.0\n",
      "jd2           tai   0.0050000000000000044\n",
      "jd2           tcb   0.005503995570442007\n",
      "jd2           tcg   0.005378409613057893\n",
      "jd2           tdb   0.005372518409047742\n",
      "jd2           tt    0.005372500000000004\n",
      "jd2           ut1   0.004632919462164571\n",
      "jd2           utc   0.004629629629629634\n"
     ]
    }
   ],
   "source": [
    "# Print all formats and scales for t\n",
    "print(f\"\\nTime: {time_object}\\n\")\n",
    "maxlen = max([len(f) for f in list(Time.FORMATS.keys())])\n",
    "print(f\"Format        Scale Value\")\n",
    "print(f\"------------------------------------------\")\n",
    "for FORMAT in [*list(Time.FORMATS.keys()),'jd1','jd2']:\n",
    "  for SCALE in Time.SCALES:\n",
    "    if SCALE == 'local': continue\n",
    "    # Set scale. time_object = getattr(time_object, SCALE) is equivalent to doing\n",
    "    #    time_object = time_object.SCALE\n",
    "    # where SCALE is one of scales listed at\n",
    "    # https://docs.astropy.org/en/stable/time/index.html#id6\n",
    "    time_object = getattr(time_object, SCALE)\n",
    "\n",
    "    # Set format. getattr(t, FORMAT) is equivalent to doing\n",
    "    #    t = Time(time_string)\n",
    "    #    val = t.format\n",
    "    # where FORMAT is one of the formats listed at\n",
    "    # https://docs.astropy.org/en/stable/time/#time-format\n",
    "    val = getattr(time_object, FORMAT)\n",
    "\n",
    "    print(f\"{FORMAT:13} {SCALE:5} {val}\") # https://docs.astropy.org/en/stable/time/#id6"
   ]
  },
  {
   "cell_type": "markdown",
   "id": "8083c336-2fae-4540-a70a-989c2408415b",
   "metadata": {},
   "source": [
    "**Problems**"
   ]
  },
  {
   "cell_type": "markdown",
   "id": "4065a155-fa6a-4633-be1c-223d6337ef9f",
   "metadata": {},
   "source": [
    "## 3.4 Plotting\n",
    "\n",
    "* Matplotlib time axes\n",
    "* AstroPy time_support\n",
    "* spacepy/plot/utils.py\n",
    "* [hapiplot](https://github.com/hapi-server/plot-python/blob/main/hapiplot/plot/datetick.py)\n",
    "* [pytplot](https://pypi.org/project/pytplot-mpl-temp/)\n",
    "* [geospacelab](https://github.com/JouleCai/geospacelab)\n"
   ]
  },
  {
   "cell_type": "markdown",
   "id": "e8d00ad7-8afa-493f-a682-0d4ef40a62c5",
   "metadata": {},
   "source": [
    "# 4. Space\n",
    "\n",
    "Three main approaches:\n",
    "\n",
    "1. Custom library: SpacePy, SunPy, etc. More often used by scientists.\n",
    "2. SPICE: Not covered; more often used by instrument teams. Should mention that there are often training opportunities with NAIF.\n",
    "3. Web site, e.g.\n",
    "   * [LAMBDA](https://lambda.gsfc.nasa.gov/toolbox/converters.html)\n",
    "   * [TREPS](https://treps.irap.omp.eu/)\n",
    "   * [Geomagnetic Coordinate Calculator](https://geomag.bgs.ac.uk/data_service/models_compass/coord_calc.html)\n",
    "   * [AACGM-v2 Coordinate Transformations](https://sdnet.thayer.dartmouth.edu/aacgm/aacgm_calc.php)\n",
    "   * [NOAA Magnetic Field Calculators](https://www.ngdc.noaa.gov/geomag/calculators/magcalc.shtml)\n",
    "   * [Kyoto Geographic <=> Geomagnetic (IGRF)](https://wdc.kugi.kyoto-u.ac.jp/igrf/gggm/)\n",
    "\n",
    "## Review of coordinate frame transforms\n",
    "\n",
    "Give examples of doing transforms with at least two packages.\n",
    "\n",
    "## Problems\n",
    "\n",
    "1. Computing dipole tilt. Problem involving plotting over the course of a year. Discussion of interpretation.\n",
    "\n",
    "2. Transforming a unit vector from GSE to GSM and plotting over the course of a year. Discussion of interpretation.\n",
    "\n",
    "3. Conversion from helioprojective (100 arcsec in x, 100 arcsec in y) to heliographic (lat long) (Stonyhurst or Carrington)"
   ]
  }
 ],
 "metadata": {
  "kernelspec": {
   "display_name": "Python 3 (ipykernel)",
   "language": "python",
   "name": "python3"
  },
  "language_info": {
   "codemirror_mode": {
    "name": "ipython",
    "version": 3
   },
   "file_extension": ".py",
   "mimetype": "text/x-python",
   "name": "python",
   "nbconvert_exporter": "python",
   "pygments_lexer": "ipython3",
   "version": "3.10.14"
  }
 },
 "nbformat": 4,
 "nbformat_minor": 5
}
