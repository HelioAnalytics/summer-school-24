{
 "cells": [
  {
   "cell_type": "code",
   "execution_count": 4,
   "id": "e9405e92-0b60-40fb-bcad-c9ed860a5850",
   "metadata": {},
   "outputs": [],
   "source": [
    "# In case of emergency\n",
    "# %pip install pysatSpaceWeather\n",
    "# %pip install pysatNASA\n",
    "# Start with basic imports\n",
    "import datetime as dt\n",
    "import matplotlib.pyplot as plt\n",
    "import numpy as np\n",
    "import pandas as pd\n",
    "import pysat\n",
    "import pysatNASA\n",
    "import pysatSpaceWeather as py_sw\n",
    "\n",
    "from math import isnan\n",
    "import kamodo_ccmc.flythrough.model_wrapper as MW\n",
    "import kamodo_ccmc.tools.plotfunctions as pf\n",
    "from kamodo_ccmc.tools.plotfunctions import toColor, toLog10\n",
    "from kamodo_ccmc.flythrough import SatelliteFlythrough as SF\n",
    "from kamodo_ccmc.tools.functionalize import Functionalize_Dataset as FD\n",
    "import pytz\n",
    "from datetime import datetime"
   ]
  },
  {
   "cell_type": "code",
   "execution_count": 5,
   "id": "0a8c3b1e-7a54-4dfb-a714-cf3ab854d2f6",
   "metadata": {},
   "outputs": [
    {
     "name": "stdout",
     "output_type": "stream",
     "text": [
      "old: ['.']\n",
      "new: ['/home/jovyan/scratch_space/.pysat']\n"
     ]
    }
   ],
   "source": [
    "# Set data directory if user hasn't already set one\n",
    "print(f\"old: {pysat.params['data_dirs']}\")\n",
    "if len(pysat.params['data_dirs']) == 0 or pysat.params['data_dirs'] == ['.']:\n",
    "    # Set a directory for pysat to use for data\n",
    "    pysat.params['data_dirs'] = '/home/jovyan/scratch_space/.pysat/'\n",
    "else:\n",
    "    print('pysat directory has been set previously. Leaving unchanged.')\n",
    "\n",
    "print(f\"new: {pysat.params['data_dirs']}\")"
   ]
  },
  {
   "cell_type": "code",
   "execution_count": 6,
   "id": "4a393039-dda8-4aaf-a79f-5ca71ce2177c",
   "metadata": {},
   "outputs": [],
   "source": [
    "# If you get an error about the data directory not existing yet, do one of these then repeat the cell above\n",
    "#pysat.params['data_dirs'] = '/home/jovyan/scratch_space/.pysat/'\n",
    "#pysat.params['data_dirs'] = '/home/jovyan/.pysat/'"
   ]
  },
  {
   "cell_type": "code",
   "execution_count": 7,
   "id": "dd1af25e-bda5-4995-aa64-242bac3bdd1f",
   "metadata": {},
   "outputs": [],
   "source": [
    "# Register the COSMIC 2 instrument from pysatCDAAC with pysat\n",
    "pysat.utils.registry.register_by_module(pysatNASA.instruments)"
   ]
  },
  {
   "cell_type": "code",
   "execution_count": 8,
   "id": "3cf027dc-85fb-45be-8c21-3b469b89188c",
   "metadata": {},
   "outputs": [
    {
     "name": "stdout",
     "output_type": "stream",
     "text": [
      "Data start DOY = 81\n",
      "Data end DOY = 85\n"
     ]
    }
   ],
   "source": [
    "# Dates during a magnetic storm with Kp greater than 6.\n",
    "start = dt.datetime(2023, 3, 22)\n",
    "stop = dt.datetime(2023, 3, 26)\n",
    "\n",
    "print('Data start DOY =',start.timetuple().tm_yday)\n",
    "print('Data end DOY =',stop.timetuple().tm_yday)"
   ]
  },
  {
   "cell_type": "code",
   "execution_count": 9,
   "id": "d0f64f3b-319b-4534-b09e-d1d1930d232e",
   "metadata": {},
   "outputs": [],
   "source": [
    "# Create a pysat instrument for Kp data from the pysatSpaceweather package\n",
    "kp_his = pysat.Instrument(inst_module=py_sw.instruments.sw_kp, tag='def', update_files=True)\n",
    "\n",
    "# Set the type of orbit delimiting for the COSMIC 2 instrument\n",
    "orbit_info = {'index': 'sclongitudeAVG', 'kind': 'longitude'}\n",
    "\n",
    "# Create COSMIC 2 ion velocity meter instrument\n",
    "saber = pysat.Instrument(platform='timed', name='saber', orbit_info=orbit_info)"
   ]
  },
  {
   "cell_type": "code",
   "execution_count": 10,
   "id": "9fac1304-4ecf-4295-8cef-ca973af2d1ca",
   "metadata": {},
   "outputs": [],
   "source": [
    "# Download the data (only needed once)\n",
    "#saber.download(start, stop)\n",
    "#kp_his.download(start, stop)"
   ]
  },
  {
   "cell_type": "code",
   "execution_count": 11,
   "id": "4c3b8bad-6ea8-4183-84b3-bc1b2bd45235",
   "metadata": {},
   "outputs": [
    {
     "name": "stderr",
     "output_type": "stream",
     "text": [
      "/srv/conda/envs/notebook/lib/python3.10/site-packages/pysat/_instrument.py:2388: FutureWarning: The return type of `Dataset.dims` will be changed to return a set of dimension names in future, in order to be more consistent with `DataArray.dims`. To access a mapping from dimension names to lengths, please use `Dataset.sizes`.\n",
      "  if new_data[idat].dims != new_data[idat + 1].dims:\n",
      "/srv/conda/envs/notebook/lib/python3.10/site-packages/pysat/utils/coords.py:311: FutureWarning: The return type of `Dataset.dims` will be changed to return a set of dimension names in future, in order to be more consistent with `DataArray.dims`. To access a mapping from dimension names to lengths, please use `Dataset.sizes`.\n",
      "  dims = [dim_key for dim_key in list(sdata.dims.keys())\n",
      "/srv/conda/envs/notebook/lib/python3.10/site-packages/pysat/utils/coords.py:314: FutureWarning: The return type of `Dataset.dims` will be changed to return a set of dimension names in future, in order to be more consistent with `DataArray.dims`. To access a mapping from dimension names to lengths, please use `Dataset.sizes`.\n",
      "  for dim in list(sdata.dims.keys()):\n",
      "/srv/conda/envs/notebook/lib/python3.10/site-packages/pysat/utils/coords.py:320: FutureWarning: The return type of `Dataset.dims` will be changed to return a set of dimension names in future, in order to be more consistent with `DataArray.dims`. To access a mapping from dimension names to lengths, please use `Dataset.sizes`.\n",
      "  combo_dims = {dim: max([sdata.dims[dim] for sdata in data_list\n",
      "/srv/conda/envs/notebook/lib/python3.10/site-packages/pysat/utils/coords.py:327: FutureWarning: The return type of `Dataset.dims` will be changed to return a set of dimension names in future, in order to be more consistent with `DataArray.dims`. To access a mapping from dimension names to lengths, please use `Dataset.sizes`.\n",
      "  fix_dims = [dim for dim in sdata.dims.keys() if dim in combo_dims.keys()\n",
      "/srv/conda/envs/notebook/lib/python3.10/site-packages/pysat/utils/coords.py:328: FutureWarning: The return type of `Dataset.dims` will be changed to return a set of dimension names in future, in order to be more consistent with `DataArray.dims`. To access a mapping from dimension names to lengths, please use `Dataset.sizes`.\n",
      "  and sdata.dims[dim] < combo_dims[dim]]\n",
      "pysat WARNING: No cleaning routines available for timed saber\n"
     ]
    }
   ],
   "source": [
    "# Load the Kp and COSMIC 2 data\n",
    "kp_his.load(2023, 81, end_yr=2023, end_doy=85)\n",
    "saber.load(2023, 81, end_yr=2023, end_doy=85)"
   ]
  },
  {
   "cell_type": "code",
   "execution_count": null,
   "id": "849715ac-3bd9-4e69-82a0-8c8a28fe4cfa",
   "metadata": {},
   "outputs": [],
   "source": [
    "# Here we'll get a little information about the TIMED SABER data we're looking at\n",
    "\n",
    "# Basic info about the mission and instrument with some links to more information\n",
    "print(saber.meta['Project'])\n",
    "print(saber.meta['Descriptor'])\n",
    "print(saber.meta['Link_title'])\n",
    "print(saber.meta['HTTP_link'])\n",
    "\n",
    "# List of all of the variables in the loaded data\n",
    "list(saber.data.variables)"
   ]
  },
  {
   "cell_type": "code",
   "execution_count": null,
   "id": "a3ddb3de-52e9-45c3-a09b-bc63082c66e1",
   "metadata": {},
   "outputs": [],
   "source": [
    "# Now let's look at the orbit of the spacecraft\n",
    "\n",
    "fig, axs = plt.subplots(3, 1)\n",
    "# TIMED has a mostly circular orbit\n",
    "saber['scaltitudeAVG'].plot(ax=axs[0])\n",
    "axs[0].set_xlim(start, start+dt.timedelta(minutes=90))\n",
    "axs[0].set_title(saber.meta['scaltitudeAVG']['standard_name'])\n",
    "\n",
    "# The SABER instrument is a radiometer that scans the Earth's Limb\n",
    "saber['tpaltitude'][:, 50].plot(ax=axs[1])\n",
    "axs[1].set_xlim(start, start+dt.timedelta(minutes=90))\n",
    "axs[1].set_title(saber.meta['tpaltitude']['standard_name'])\n",
    "\n",
    "# TIMED has an inclination of about 75 degrees \n",
    "saber['sclatitudeAVG'].plot(ax=axs[2])\n",
    "axs[2].set_xlim(start, start+dt.timedelta(minutes=90))\n",
    "axs[2].set_title(saber.meta['sclatitudeAVG']['standard_name'])\n",
    "plt.tight_layout()"
   ]
  },
  {
   "cell_type": "code",
   "execution_count": null,
   "id": "05793c52-dece-4eb7-8283-af8710f783b6",
   "metadata": {},
   "outputs": [],
   "source": [
    "\"\"\"The SABER instrument on the TIMED satellite makes scans of the Earth's Limb with a radiometer.\n",
    "So the measurements of neutral density, pressure, and temperature are not being made in-situ, or at the satellite.\n",
    "Instead, they're being made over the horizon from the satellite's point of view.\n",
    "This diagram depicts the configuration of the satellite and the radiometer view.\n",
    "By scanning the limb, SABER gets a vertical profile of the measured quantities from about 3km to 200km.\n",
    "SABER has 10 channels for different wavelengths that correspond to different neutral species.\n",
    "\"\"\"\n",
    "\n",
    "from IPython.display import Image\n",
    "Image(\"timed_view.png\")"
   ]
  },
  {
   "cell_type": "code",
   "execution_count": null,
   "id": "e95a5583-009f-4972-9625-0cd51ce4d55f",
   "metadata": {},
   "outputs": [],
   "source": [
    "saber_time = saber['time']\n",
    "X = [saber_time, saber_time]\n",
    "x = np.repeat(X, 200, axis=0).transpose()\n",
    "Z = np.log10(saber['ktemp'])\n",
    "\n",
    "# Plot the ion density and Kp\n",
    "fig, axs = plt.subplots(2, 1)\n",
    "pcm = axs[0].pcolormesh(x, saber['tpaltitude'], Z, shading='nearest', cmap='plasma')\n",
    "axs[0].set_xlim(start, stop)\n",
    "axs[0].set_ylim(0, 120)\n",
    "cbar = fig.colorbar(pcm, ax=axs[0], location='top')\n",
    "cbar.set_label(label='neutral density log10(cm^-3)')\n",
    "kp_his['Kp'].plot(ax=axs[1])\n",
    "axs[1].set_xlim(pd.Timestamp(start), pd.Timestamp(stop))\n",
    "plt.tight_layout()"
   ]
  },
  {
   "cell_type": "code",
   "execution_count": null,
   "id": "5d3deca2-a3d4-461e-a54a-ce84597107cf",
   "metadata": {},
   "outputs": [],
   "source": [
    "# But you don't see much if any response in the temperature to the storm so we'll plot a single channel\n",
    "# Also we'll smooth it out a little and see if that makes the temperature response any clearer\n",
    "print(saber['tpaltitude'][:, 137].mean())\n",
    "print(saber['time'][1] - saber['time'][0])\n",
    "saber['ktemp'][:, 137].plot(label='Temperature K')\n",
    "avg_temp = saber['ktemp'][:, 137].rolling(time=240, center=True).mean()\n",
    "avg_temp.plot(label='~4 hour rolling average')\n",
    "plt.legend()"
   ]
  },
  {
   "cell_type": "code",
   "execution_count": null,
   "id": "dd03cd14-bb43-430f-b1f2-0b6a55be9dbc",
   "metadata": {},
   "outputs": [],
   "source": [
    "# Now lets look at the data from Kamodo's perspective. First inspect the size and content structure\n",
    "nTimes = saber['tpaltitude'].shape[0]\n",
    "nChans = saber['tpaltitude'].shape[1]\n",
    "print('Data array shape =',saber['tpaltitude'].shape)"
   ]
  },
  {
   "cell_type": "code",
   "execution_count": null,
   "id": "6bffc8b3",
   "metadata": {},
   "outputs": [],
   "source": [
    "# What's packed in it\n",
    "saber['tpaltitude'][0,0]"
   ]
  },
  {
   "cell_type": "code",
   "execution_count": null,
   "id": "462d92b6",
   "metadata": {},
   "outputs": [],
   "source": [
    "# Lets functionalize it in Kamodo and take a quick look.\n",
    "coord_dict = {'time': {'units': 'hr', 'data': np.linspace(0., 96., nTimes)},\n",
    "              'channel': {'units': '', 'data': np.linspace(0, 399, nChans)}}\n",
    "var_dict = {'alt': {'units': 'km', 'data': saber['tpaltitude'].values},\n",
    "            'lon': {'units': 'deg', 'data': saber['tplongitude'].values},\n",
    "            'lat': {'units': 'deg', 'data': saber['tplatitude'].values},\n",
    "            'temp': {'units': 'K', 'data': saber['ktemp'].values}}\n",
    "ko = FD(coord_dict, var_dict)\n",
    "ko"
   ]
  },
  {
   "cell_type": "code",
   "execution_count": null,
   "id": "b5b7add6",
   "metadata": {},
   "outputs": [],
   "source": [
    "var = 'alt'\n",
    "figA = ko.plot(var, plot_partial={var: {'channel': 137}})\n",
    "figA"
   ]
  },
  {
   "cell_type": "code",
   "execution_count": null,
   "id": "b975777d",
   "metadata": {},
   "outputs": [],
   "source": [
    "# It's not a big deal, but lets quick convert the X axis to datetime rather than hours from start of data\n",
    "newdt = [pytz.utc.localize(datetime.utcfromtimestamp(v)) \n",
    "         for v in pytz.utc.localize(start).timestamp()+3600.*figA.data[0].x]\n",
    "figA.data[0].x = newdt\n",
    "figA"
   ]
  },
  {
   "cell_type": "code",
   "execution_count": null,
   "id": "e3583bcc",
   "metadata": {},
   "outputs": [],
   "source": [
    "# I can analyze for a specific channel, but as you see the altitude varies a bit.\n",
    "# Lets do a quick little interpolation to extract position and values at exactly 100km\n",
    "\n",
    "# Set the height to interpolate to, then build interpolation factors\n",
    "h = 107.\n",
    "mF = np.ndarray(shape=(nTimes,2), dtype=np.float32)\n",
    "mI = np.ndarray(shape=(nTimes,2), dtype=int)\n",
    "for i in range(nTimes):\n",
    "    talt = saber['tpaltitude'].values[i,:]\n",
    "    dif = np.absolute(talt - h)\n",
    "    mI[i,0] = dif.argmin()\n",
    "    if talt[mI[i,0]] >= h:\n",
    "        mI[i,1] = mI[i,0]+1\n",
    "    else:\n",
    "        mI[i,1] = mI[i,0]-1\n",
    "    mF[i,1] = (talt[mI[i,0]]-h)/(talt[mI[i,0]]-talt[mI[i,1]])\n",
    "    mF[i,0] = 1. - mF[i,1]"
   ]
  },
  {
   "cell_type": "code",
   "execution_count": null,
   "id": "d1767d4c",
   "metadata": {},
   "outputs": [],
   "source": [
    "# Set the satellite values to interpolate from and compute the interpolation\n",
    "v1 = saber['tpaltitude'].values\n",
    "v2 = saber['tplongitude'].values\n",
    "v3 = saber['tplatitude'].values\n",
    "v4 = saber['density'].values\n",
    "v5 = saber['ktemp'].values\n",
    "valt = np.ndarray(shape=(nTimes), dtype=np.float32)\n",
    "vlon = np.ndarray(shape=(nTimes), dtype=np.float32)\n",
    "vlat = np.ndarray(shape=(nTimes), dtype=np.float32)\n",
    "vden = np.ndarray(shape=(nTimes), dtype=np.float32)\n",
    "vtem = np.ndarray(shape=(nTimes), dtype=np.float32)\n",
    "for i in range(nTimes):\n",
    "    valt[i] = (v1[i,mI[i,0]]*mF[i,0]) + (v1[i,mI[i,1]]*mF[i,1])\n",
    "    vlon[i] = (v2[i,mI[i,0]]*mF[i,0]) + (v2[i,mI[i,1]]*mF[i,1])\n",
    "    vlat[i] = (v3[i,mI[i,0]]*mF[i,0]) + (v3[i,mI[i,1]]*mF[i,1])\n",
    "    vden[i] = (v4[i,mI[i,0]]*mF[i,0]) + (v4[i,mI[i,1]]*mF[i,1])\n",
    "    vtem[i] = (v5[i,mI[i,0]]*mF[i,0]) + (v5[i,mI[i,1]]*mF[i,1])"
   ]
  },
  {
   "cell_type": "code",
   "execution_count": null,
   "id": "1ee9d24b",
   "metadata": {},
   "outputs": [],
   "source": [
    "# Time is a little more complicated due to datetime64\n",
    "vtime = saber['tplatitude'].time.values\n",
    "vtimets = ((vtime - np.datetime64('1970-01-01T00:00:00')) / np.timedelta64(1, 's'))\n",
    "vtimedt = np.array([pytz.utc.localize(datetime.utcfromtimestamp(tt)) for tt in vtimets])"
   ]
  },
  {
   "cell_type": "code",
   "execution_count": null,
   "id": "031962ed",
   "metadata": {},
   "outputs": [],
   "source": [
    "# The interpolator needs longitude +/- 180, not 0 to 360\n",
    "lmask = vlon > 180.\n",
    "vlon[lmask] -= 360."
   ]
  },
  {
   "cell_type": "code",
   "execution_count": null,
   "id": "c4db556f",
   "metadata": {},
   "outputs": [],
   "source": [
    "# Now, I'm saving the time and postion I want to look at to a file to use for interpolation\n",
    "#   from a TIEGCM run to compare the model values with the observed data\n",
    "with open(\"Extraction_Path.txt\", \"w\") as f:\n",
    "    f.write(\"#Model files used:\\tunknown\\n\")\n",
    "    f.write(\"#Model used:\\tTIEGCM\\n\")\n",
    "    f.write(\"#Coordinates:\\tGDZ\\tsph\\n\")\n",
    "    f.write(\"#utc_time\\tc1\\tc2\\tc3\\n\")\n",
    "    f.write(\"#[s]\\t[R_E]\\t[R_E]\\t[R_E]\\n\")\n",
    "    for i in range(nTimes):\n",
    "        f.write(\"%f\\t%f\\t%f\\t%f\\n\" % (vtimets[i], vlon[i], vlat[i], valt[i]))"
   ]
  },
  {
   "cell_type": "code",
   "execution_count": null,
   "id": "a4861b77",
   "metadata": {},
   "outputs": [],
   "source": [
    "# The file looks like this\n",
    "!head -10 Extraction_Path.txt"
   ]
  },
  {
   "cell_type": "code",
   "execution_count": null,
   "id": "fcdc7e6e",
   "metadata": {},
   "outputs": [],
   "source": [
    "# Lets functionalize this new data in Kamodo.\n",
    "coord_dict = {'time': {'units': 'hr', 'data': np.linspace(0., 96., nTimes)}}\n",
    "var_dict = {'alt': {'units': 'km', 'data': valt},\n",
    "            'lon': {'units': 'deg', 'data': vlon},\n",
    "            'lat': {'units': 'deg', 'data': vlat},\n",
    "            'density': {'units': 'deg', 'data': vden},\n",
    "            'temp': {'units': 'K', 'data': vtem}}\n",
    "ko2 = FD(coord_dict, var_dict)\n",
    "ko2"
   ]
  },
  {
   "cell_type": "code",
   "execution_count": null,
   "id": "d83cd1e6",
   "metadata": {},
   "outputs": [],
   "source": [
    "# Make a quick plot to see that all is well.\n",
    "ko2.plot('alt', 'lon', 'lat', 'temp')"
   ]
  },
  {
   "cell_type": "code",
   "execution_count": null,
   "id": "be0d8fc7",
   "metadata": {},
   "outputs": [],
   "source": [
    "# Let's load Kamodo's TIEGCM reader and set some variables\n",
    "\n",
    "model = 'TIEGCM'\n",
    "variables_requested = ['T_n', 'rho']  # one variable from each coordinate\n",
    "# change file path to where data is stored on your machine\n",
    "file_dir = '/home/jovyan/scratch_space/Kamodo_Model_Output/TIEGCM/TIEGCM-Weimer-02_2023-03-TP-01_012624_IT_4/'\n",
    "\n",
    "reader = MW.Model_Reader(model)"
   ]
  },
  {
   "cell_type": "code",
   "execution_count": null,
   "id": "24e430ac",
   "metadata": {},
   "outputs": [],
   "source": [
    "# What density and temperature values are in the model output?\n",
    "MW.Variable_Search('density', model, file_dir)\n",
    "print(' ')\n",
    "MW.Variable_Search('temperature', model, file_dir)"
   ]
  },
  {
   "cell_type": "code",
   "execution_count": null,
   "id": "d8ab372f",
   "metadata": {},
   "outputs": [],
   "source": [
    "# Load the model output into Kamodo\n",
    "kamodo_object = reader(file_dir, variables_requested=variables_requested)\n",
    "kamodo_object"
   ]
  },
  {
   "cell_type": "code",
   "execution_count": null,
   "id": "14adda7e",
   "metadata": {},
   "outputs": [],
   "source": [
    "# What's the base date for what we've just read in\n",
    "kamodo_object.filedate"
   ]
  },
  {
   "cell_type": "code",
   "execution_count": null,
   "id": "b00d68e7",
   "metadata": {},
   "outputs": [],
   "source": [
    "# Generate a plot to see what the model provides\n",
    "toColor(kamodo_object.plot('T_n_ijk', plot_partial={'T_n_ijk': {'time': 74., 'height': h}}), colorscale=\"Viridis\")"
   ]
  },
  {
   "cell_type": "code",
   "execution_count": null,
   "id": "c7637185",
   "metadata": {},
   "outputs": [],
   "source": [
    "# We have special extras for nicer plots\n",
    "plot_date = dt.datetime(2023, 3, 22, 2).replace(tzinfo=dt.timezone.utc)\n",
    "pf.GDZSlice4D(kamodo_object.T_n, 'T_n[K]', 'TIEGCM', plot_date, 'Lon-Lat', fixed_alt=h, fixed_time=74.,\n",
    "             plotCoord='GEO', shoreline=True, \n",
    "              title='Upgraded 2D plot with shorelines')"
   ]
  },
  {
   "cell_type": "code",
   "execution_count": null,
   "id": "1f8849c6",
   "metadata": {},
   "outputs": [],
   "source": [
    "# Set some flythrough extraction variables\n",
    "start_utcts = dt.datetime(2023, 3, 22, 0).replace(tzinfo=dt.timezone.utc).timestamp()\n",
    "end_utcts = dt.datetime(2023, 3, 26, 0).replace(tzinfo=dt.timezone.utc).timestamp()-1\n",
    "variables = ['T_n', 'rho', 'TEC']  # one or more variable names to retrieve"
   ]
  },
  {
   "cell_type": "code",
   "execution_count": null,
   "id": "5c032f1c",
   "metadata": {},
   "outputs": [],
   "source": [
    "# DON'T EXECUTE\n",
    "# This is for example only. If data was at the satellite location, this will extract values there automatically\n",
    "#\n",
    "#dataset = 'timed' \n",
    "#coord_type = 'GEO'  # Desired coordinate system for retrieved trajectory.\n",
    "#plot_coord = 'GSE'  # Coordinate system chosen for output plots\n",
    "## Choose naming convention for output files\n",
    "#output_name = 'TIEGCM_timed_output.txt' \n",
    "#!rm -f TIEGCM_timed_output*"
   ]
  },
  {
   "cell_type": "code",
   "execution_count": null,
   "id": "9028729a",
   "metadata": {},
   "outputs": [],
   "source": [
    "# DON'T EXECUTE\n",
    "#\n",
    "#results_real = SF.RealFlight(dataset, start_utcts, end_utcts, model, file_dir, variables, \n",
    "#                             coord_type=coord_type, output_name=output_name, plot_coord=plot_coord)\n",
    "#kamodo_object_real = SF.O.Functionalize_SFResults(model, results_real)\n",
    "#kamodo_object_real"
   ]
  },
  {
   "cell_type": "code",
   "execution_count": null,
   "id": "64d1064c",
   "metadata": {},
   "outputs": [],
   "source": [
    "# Now we will extract along 107km altitude path from the file we saved above and load into Kamodo\n",
    "pfile = 'Extraction_Path.txt'\n",
    "results_my = SF.MyFlight(pfile, model, file_dir, variables)\n",
    "kamodo_object_my = SF.O.Functionalize_SFResults(model, results_my)\n",
    "kamodo_object_my"
   ]
  },
  {
   "cell_type": "code",
   "execution_count": null,
   "id": "cc99adee",
   "metadata": {},
   "outputs": [],
   "source": [
    "# Plot the neutral temperature\n",
    "figT = kamodo_object_my.plot('T_n')\n",
    "figT"
   ]
  },
  {
   "cell_type": "code",
   "execution_count": null,
   "id": "5d57fa28",
   "metadata": {},
   "outputs": [],
   "source": [
    "# Now take the observed values, plot them, adjust the X axis time, and add to the previous plot\n",
    "figS = ko2.plot('temp')\n",
    "newdt = [pytz.utc.localize(datetime.utcfromtimestamp(v)) \n",
    "         for v in pytz.utc.localize(start).timestamp()+3600.*figS.data[0].x]\n",
    "figS.data[0].x = newdt\n",
    "figT.add_trace(figS.data[0])"
   ]
  },
  {
   "cell_type": "code",
   "execution_count": null,
   "id": "79eb9674",
   "metadata": {},
   "outputs": [],
   "source": [
    "# simple function to reduce resolution by 2 via averaging.\n",
    "def halfResolution(inFig):\n",
    "    inX = inFig.data[0]['x']\n",
    "    inY = inFig.data[0]['y']\n",
    "    outX, outY = [], []\n",
    "    for i in range(len(inX)):\n",
    "        if (i % 2) == 1:\n",
    "            aveX = inX[i-1] + (inX[i]-inX[i-1])/2. # This works for datetimes and floats\n",
    "            aveY = inY[i-1] + (inY[i]-inY[i-1])/2.\n",
    "            outX.append(aveX)\n",
    "            outY.append(aveY)\n",
    "    inFig.data[0]['x'] = outX\n",
    "    inFig.data[0]['y'] = outY\n",
    "    name = inFig.data[0]['name']+'.'\n",
    "    inFig.data[0]['name'] = name\n",
    "\n",
    "    return inFig"
   ]
  },
  {
   "cell_type": "code",
   "execution_count": null,
   "id": "ca7f45a1-6d98-4e92-bf1a-2a88829f6a67",
   "metadata": {},
   "outputs": [],
   "source": [
    "halfResolution(figS)\n",
    "figT.add_trace(figS.data[0])"
   ]
  },
  {
   "cell_type": "code",
   "execution_count": null,
   "id": "ab866eac-f88c-42ab-aa29-d634f1821ba4",
   "metadata": {},
   "outputs": [],
   "source": [
    "from kamodo_ccmc.flythrough.plots import SatPlot4D"
   ]
  },
  {
   "cell_type": "code",
   "execution_count": null,
   "id": "ef1510d8-241f-45c6-ad68-9b99e8f43c3d",
   "metadata": {},
   "outputs": [],
   "source": [
    "SatPlot4D('T', vtimets, vlon, vlat, valt, vtem, 'K', 'GDZ', 'sph', 'GEO', \n",
    "          'all', 'TIMED-SABER 107km', type='2D')"
   ]
  },
  {
   "cell_type": "code",
   "execution_count": null,
   "id": "06adeabd-7c4d-48cb-a52d-c544d44e66b7",
   "metadata": {},
   "outputs": [],
   "source": [
    "SatPlot4D('T', vtimets, vlon, vlat, valt, vtem, 'K', 'GDZ', 'sph', 'GEO', \n",
    "          'all', 'TIMED-SABER 107km', type='2DLT')"
   ]
  },
  {
   "cell_type": "code",
   "execution_count": null,
   "id": "e3e0b1a9-5bb0-44fb-bf9b-0bee725e4e25",
   "metadata": {},
   "outputs": [],
   "source": [
    "SatPlot4D('T', vtimets, vlon, vlat, valt, vtem, 'K', 'GDZ', 'sph', 'GSE', \n",
    "          'orbitE', 'TIMED-SABER 107km', type='3D')#, body='earth')"
   ]
  },
  {
   "cell_type": "code",
   "execution_count": null,
   "id": "a7227cd2-b6ee-41a7-8621-7ab1820cb521",
   "metadata": {},
   "outputs": [],
   "source": []
  }
 ],
 "metadata": {
  "kernelspec": {
   "display_name": "Python 3 (ipykernel)",
   "language": "python",
   "name": "python3"
  },
  "language_info": {
   "codemirror_mode": {
    "name": "ipython",
    "version": 3
   },
   "file_extension": ".py",
   "mimetype": "text/x-python",
   "name": "python",
   "nbconvert_exporter": "python",
   "pygments_lexer": "ipython3",
   "version": "3.10.14"
  }
 },
 "nbformat": 4,
 "nbformat_minor": 5
}
