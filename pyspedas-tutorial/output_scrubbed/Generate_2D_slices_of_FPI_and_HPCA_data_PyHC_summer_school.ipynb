{
 "nbformat": 4,
 "nbformat_minor": 0,
 "metadata": {
  "colab": {
   "name": "MMS 2D slices.ipynb",
   "provenance": [],
   "collapsed_sections": []
  },
  "kernelspec": {
   "name": "python3",
   "display_name": "Python 3 (ipykernel)",
   "language": "python"
  },
  "language_info": {
   "name": "python"
  }
 },
 "cells": [
  {
   "cell_type": "markdown",
   "source": [
    "This notebook shows how to create 2D slices of 3D particle data from MMS FPI and HPCA using PySPEDAS\n",
    "\n",
    "Note: these routines are still being beta tested; please report potential issues to Jim Lewis, jwl@ssl.berkeley.edu"
   ],
   "metadata": {
    "id": "poJAyrnHuSi_"
   }
  },
  {
   "metadata": {},
   "cell_type": "code",
   "source": [
    "import os\n",
    "os.environ[\"SPEDAS_DATA_DIR\"] = \"/home/jovyan/scratch_space/pyspedas_data\"\n"
   ],
   "outputs": [],
   "execution_count": null
  },
  {
   "cell_type": "code",
   "source": [
    "import pytplot\n",
    "from pyspedas.mms.particles.mms_part_slice2d import mms_part_slice2d"
   ],
   "metadata": {
    "id": "7kakDE8VuMR2"
   },
   "outputs": [],
   "execution_count": null
  },
  {
   "cell_type": "markdown",
   "source": "# Fast ion flows observed by the MMS FPI and HPCA instruments during a dayside reconnection event on March 24, 2023",
   "metadata": {
    "id": "nFmIOsPO-AIx"
   }
  },
  {
   "cell_type": "code",
   "source": "time = '2023-03-24/07:07:33'",
   "metadata": {
    "id": "kp_bcSrYtwR5"
   },
   "outputs": [],
   "execution_count": null
  },
  {
   "cell_type": "markdown",
   "source": [
    "## FPI ions with geometric interpolation\n",
    "\n",
    "The data are rotated such that the x axis is parallel to B field and the bulk velocity defines the x-y plane, and plotted using geometric interpolation (each point on the plot is given the value of the bin it intersects)"
   ],
   "metadata": {
    "id": "EoGVv_lZ-ROs"
   }
  },
  {
   "cell_type": "code",
   "source": "mms_part_slice2d(time=time, instrument='fpi', data_rate='brst', species='i', rotation='bv', erange=[0, 20000])",
   "metadata": {
    "colab": {
     "base_uri": "https://localhost:8080/",
     "height": 1000
    },
    "id": "GSe_TIihuRbk",
    "outputId": "50cdc385-b98b-47d4-9894-3a20a09a96a0"
   },
   "outputs": [],
   "execution_count": null
  },
  {
   "cell_type": "markdown",
   "source": [
    "Return the slice data structure (instead of plotting) by setting the `return_slice` keyword to `True`"
   ],
   "metadata": {
    "id": "kgwe7HWyqEPL"
   }
  },
  {
   "cell_type": "code",
   "source": "the_slice = mms_part_slice2d(return_slice=True, time=time, instrument='fpi', species='i', rotation='bv', erange=[0, 20000])",
   "metadata": {
    "colab": {
     "base_uri": "https://localhost:8080/"
    },
    "id": "oGwQ2sRBqJr0",
    "outputId": "51473df8-906f-4aea-a7fb-db9f34edbfa2"
   },
   "outputs": [],
   "execution_count": null
  },
  {
   "cell_type": "markdown",
   "source": [
    "The slice is stored as a dictionary:"
   ],
   "metadata": {
    "id": "bTaAayTkqcLN"
   }
  },
  {
   "cell_type": "code",
   "source": [
    "the_slice.keys()"
   ],
   "metadata": {
    "colab": {
     "base_uri": "https://localhost:8080/"
    },
    "id": "pmvtBaekqiIU",
    "outputId": "1081b0ae-bba9-4cfa-d6af-57764bffcff6"
   },
   "outputs": [],
   "execution_count": null
  },
  {
   "cell_type": "markdown",
   "source": [
    "You can also create 1D cuts through the 2D slice:"
   ],
   "metadata": {
    "id": "aBWrAag8qmYX"
   }
  },
  {
   "cell_type": "code",
   "source": [
    "from pyspedas.particles.spd_slice2d.slice1d_plot import plot\n",
    "\n",
    "plot(the_slice, 'x', [-100, 100])  # summed from Vv=[-100, 100]"
   ],
   "metadata": {
    "colab": {
     "base_uri": "https://localhost:8080/",
     "height": 284
    },
    "id": "ZgQfhlK9qpvF",
    "outputId": "ae66a6ed-d59a-4579-b20d-6bb210dd45a8"
   },
   "outputs": [],
   "execution_count": null
  },
  {
   "cell_type": "markdown",
   "source": [
    "## FPI ions with 2D interpolation\n",
    "\n",
    "The data are rotated such that the x axis is parallel to B field and the bulk velocity defines the x-y plane, and plotted using 2D interpolation (data points within the specified theta or z-axis range are projected onto the slice plane and linearly interpolated onto a regular 2D grid). The default theta range is [-20, +20]"
   ],
   "metadata": {
    "id": "mQ1McrYV-tdR"
   }
  },
  {
   "cell_type": "code",
   "source": "mms_part_slice2d(interpolation='2d', time=time, instrument='fpi', data_rate='brst', species='i', rotation='bv', erange=[0, 20000])",
   "metadata": {
    "colab": {
     "base_uri": "https://localhost:8080/",
     "height": 1000
    },
    "id": "l8yijdFw-sXw",
    "outputId": "de8e159b-18fb-41ed-8a35-f90a895e1ce6"
   },
   "outputs": [],
   "execution_count": null
  },
  {
   "cell_type": "markdown",
   "source": [
    "## HPCA H+ with geometric interpolation\n",
    "\n",
    "Same as above, but with HPCA H+ data"
   ],
   "metadata": {
    "id": "erJiIaBi_LVA"
   }
  },
  {
   "cell_type": "code",
   "source": "mms_part_slice2d(time=time, instrument='hpca', species='hplus', data_rate='brst', rotation='bv', erange=[0, 20000])",
   "metadata": {
    "colab": {
     "base_uri": "https://localhost:8080/",
     "height": 1000
    },
    "id": "YsAk42vLuZKk",
    "outputId": "7592268b-99b2-4449-9498-0e104dc5bcf7"
   },
   "outputs": [],
   "execution_count": null
  },
  {
   "cell_type": "markdown",
   "source": [
    "## HPCA H+ with 2d interpolation\n",
    "\n",
    "and with 2D interpolation. Note that with 2D interpolation, smoothing is enabled by default and set to 7 points; you can override this with the smooth keyword"
   ],
   "metadata": {
    "id": "e_U_9yNU_c2S"
   }
  },
  {
   "cell_type": "code",
   "source": "mms_part_slice2d(interpolation='2d', time=time, instrument='hpca', data_rate='brst', species='hplus', rotation='bv', erange=[0, 20000])",
   "metadata": {
    "id": "0BpIKxJGur-F",
    "colab": {
     "base_uri": "https://localhost:8080/",
     "height": 1000
    },
    "outputId": "1ac6feaf-b7f4-4ad3-a1a4-68159026aeab"
   },
   "outputs": [],
   "execution_count": null
  },
  {
   "cell_type": "markdown",
   "source": [
    "Change the rotation such that the x axis is parallel to B field; the B x V(bulk) vector defines the x-y plane:"
   ],
   "metadata": {
    "id": "eMvaM5Njr9C_"
   }
  },
  {
   "metadata": {},
   "cell_type": "code",
   "source": "mms_part_slice2d(interpolation='2d', time=time, instrument='hpca', data_rate='brst', species='hplus', rotation='be', erange=[0, 20000])",
   "outputs": [],
   "execution_count": null
  },
  {
   "cell_type": "markdown",
   "source": [
    "To see the other options, run help() on mms_part_slice2d:"
   ],
   "metadata": {
    "id": "Xk-bqUQhszYu"
   }
  },
  {
   "cell_type": "code",
   "source": [
    "help(mms_part_slice2d)"
   ],
   "metadata": {
    "colab": {
     "base_uri": "https://localhost:8080/"
    },
    "id": "jr-HuPijpuVW",
    "outputId": "6deccaa1-176a-45e0-a6c4-59ea989a2954"
   },
   "outputs": [],
   "execution_count": null
  },
  {
   "cell_type": "code",
   "source": [
    "import pytplot\n",
    "pytplot.tplot_names()"
   ],
   "metadata": {
    "id": "K27IBN-xs39k"
   },
   "outputs": [],
   "execution_count": null
  },
  {
   "metadata": {},
   "cell_type": "code",
   "source": "mms_part_slice2d(interpolation='2d', time='2023-03-24 07:07:33', instrument='fpi', species='i',rotation='be', data_rate='brst', erange=[0, 20000])\n",
   "outputs": [],
   "execution_count": null
  },
  {
   "metadata": {},
   "cell_type": "code",
   "source": "mms_part_slice2d(interpolation='2d', time='2023-03-24 07:07:55', instrument='fpi', species='i',rotation='bv', data_rate='brst', erange=[0, 20000])\n",
   "outputs": [],
   "execution_count": null
  },
  {
   "metadata": {},
   "cell_type": "code",
   "source": "pytplot.tplot( 'mms1_dis_bulkv_dbcs_fast')\n",
   "outputs": [],
   "execution_count": null
  },
  {
   "metadata": {},
   "cell_type": "code",
   "source": "",
   "outputs": [],
   "execution_count": null
  }
 ]
}
