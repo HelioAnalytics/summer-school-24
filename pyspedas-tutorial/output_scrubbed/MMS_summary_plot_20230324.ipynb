{
 "nbformat": 4,
 "nbformat_minor": 0,
 "metadata": {
  "colab": {
   "provenance": []
  },
  "kernelspec": {
   "name": "python3",
   "display_name": "Python 3 (ipykernel)",
   "language": "python"
  },
  "language_info": {
   "name": "python"
  }
 },
 "cells": [
  {
   "metadata": {},
   "cell_type": "markdown",
   "source": [
    "# MMS1 Summary Plot for 2023-03-24 #\n",
    "\n",
    "A typical first step in a PySPEDAS workflow would be to look at a summary plot for one or more missions, typically showing about a day's worth of data from multiple instruments, and perhaps other related data such as geomagnetic indices, solar wind parameters, ground-based data, or orbit data.\n",
    "\n",
    "PySPEDAS has an overview plot generator for MMS, so we'll use it to look at data from MMS-1 for the day of the event we're studying, March 24, 2023.\n",
    "\n",
    "mms_overview_plot takes a date and an MMS probe identifier, and by default plots a full day's worth of data.\n",
    "\n",
    "# Note: "
   ]
  },
  {
   "metadata": {},
   "cell_type": "code",
   "source": [
    "import os\n",
    "os.environ[\"SPEDAS_DATA_DIR\"] = \"/home/jovyan/scratch_space/pyspedas_data\"\n"
   ],
   "outputs": [],
   "execution_count": null
  },
  {
   "cell_type": "code",
   "source": [
    "import pyspedas\n",
    "import pytplot\n",
    "\n",
    "pyspedas.mms_overview_plot(trange=['2023-03-24 00:00:00', '2023-03-24 12:00:00'],probe='1',ysize=12)\n"
   ],
   "metadata": {
    "colab": {
     "base_uri": "https://localhost:8080/",
     "height": 1000
    },
    "id": "qCp-5H8bwKsl",
    "outputId": "d6d27699-3323-41ef-a1f5-eef998308446"
   },
   "outputs": [],
   "execution_count": null
  },
  {
   "metadata": {},
   "cell_type": "markdown",
   "source": [
    "# Interpreting the plot #\n",
    "\n",
    "The data displayed in the top panel doesn't come from MMS -- it shows two approximations of the Auroral Electrojet (AE) index.  Production of the definitive AE index from a standard set of ground magnetometer stations can lag by months or years, so it's not useful for near real-time analysis.  Instead, we use a so-called \"Kyoto proxy AE\" index, derivied from some near-real-time plots available from the Kyoto World Data Center, and a \"THEMIS AE index\" derived from a set of ground magnetometers operated in conjunction with the THEMIS satellite mission.  Higher values of the AE index indicate more geomagnetic activity.\n",
    "\n",
    "Panel 2 shows the MMS-1 magnetic field measurements.   The peak indicates when MMS-1 was near perihelion. (This is more useful when zooming into shorter time intervals, or reducing the Y range so the strong fields near perigee don't dominate the plot.)\n",
    "\n",
    "Panels 3-6 show energy spectrograms from the MMS particle instruments: two panels for protons, then two for electrons.  It looks like are some data gaps around perigee.  \n",
    "\n",
    "Panel 7 shows proton density from the HPCA (Hot Plasma Composition Analyzer) instrument\n",
    "\n",
    "Panel 8 shows the electric field measurements.\n",
    "\n",
    "Panel 9 shows electron and ion densities.\n",
    "\n",
    "Panels 10 and 11 show velocity measurements for protons and oxygen ions from the HPCA instrument.\n",
    "\n",
    "Several regions of interest can be seen, especially in the particle densities and energies:\n",
    "\n",
    "2-5 hours UTC: Multiple inbound bow shock crossings\n",
    "\n",
    "5-7 hours UTC: Inbound magnetopause crossings\n",
    "\n",
    "~7 hours UTC: Possible reconnection signature (fast ion flows with direction reversal)\n",
    "\n",
    "~7-16 hours UTC: Within the magnetosphere\n",
    "\n",
    "16-24 hours UTC: Outbound magnetopause and bow shock crossings\n"
   ]
  },
  {
   "metadata": {},
   "cell_type": "markdown",
   "source": [
    "# Inbound magnetopause crossing #\n",
    "\n",
    "Let's take a closer look at inbound magnetopause crossing.  We'll zoom in on a 8-hour time interval starting at 01:00 UTC, and show the AE index, magnetic field, bulk ion velocity, and particle densities.  We'll also load and plot some OMNI solar wind parameters. \n"
   ]
  },
  {
   "metadata": {},
   "cell_type": "code",
   "source": [
    "import pytplot\n",
    "\n",
    "# We're particularly intersted in 'Pressure', the solar wind dynamic pressure from the OMNI dataset, and the proton speed and density.\n",
    "\n",
    "pyspedas.omni.data(trange=['2023-03-24', '2023-03-25'])\n",
    "\n",
    "# Zoom in on the time range of interest\n",
    "pytplot.timespan('2023-03-24 01:00',8,\"hours\")\n",
    "\n",
    "# Make a plot for the restricted time range\n",
    "pytplot.tplot(['thg_idx_combined','flow_speed', 'proton_density', 'Pressure', 'mms1_fgm_b_gse_srvy_l2', 'mms1_dis_bulkv_gse_fast','mms1_fpi_density'])\n"
   ],
   "outputs": [],
   "execution_count": null
  },
  {
   "metadata": {},
   "cell_type": "markdown",
   "source": [
    "# Magnetopause crossing events #\n",
    "\n",
    "From 01:00 to 02:00, MMS-1 was in the solar wind.  At 02:00 it encounters the bow shock and enters the magnetosheath.  Around 03:00 we can see the solar wind proton density start to increase, with the flow speed remaining steady at about 440 km/sec, which increases the dynamic pressure.  \n",
    "\n",
    "As shown in the \"MMS, THEMIS, Arase orbits\" notebook, higher dynamic pressure causes the magnetopause to move inward -- in this case, pushing it inward enough so that MMS-1 finds itself back in the solar wind between 03:15 and 04:20.  The solar wind density and pressure start decreasing around 3:45, and around 04:30 MMS-1 encounters the bow shock for a second time.  A small increasse in the pressure is visible at around 04:15, and MMS-1 is briefly back in the solar wind around 04:40 - 04:50, when it crosses the bow shock for a third time.\n",
    "\n",
    "From 04:40 - 07:10, MMS-1 is in the magnetosheath.  Near the end of this period, the magnetic field changes direction, and fast ion flows are encountered and also change direction -- this is the signature of a magnetic reconnection event.\n",
    "\n",
    "From about 7:10 on, MMS-1 is fully within the magnetosphere. Bz has turned from negative in the solar wind, to positive in Earth's magnetic field, and the particle density is lower than previously seen in the solar wind and magnetosheath."
   ]
  },
  {
   "metadata": {},
   "cell_type": "code",
   "source": "",
   "outputs": [],
   "execution_count": null
  }
 ]
}
