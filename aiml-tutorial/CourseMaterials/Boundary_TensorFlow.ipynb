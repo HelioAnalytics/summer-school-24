{
 "cells": [
  {
   "cell_type": "markdown",
   "id": "91f157d5-fbc2-4e42-a2d8-6ecc64a5f245",
   "metadata": {
    "id": "91f157d5-fbc2-4e42-a2d8-6ecc64a5f245"
   },
   "source": [
    "# Decision Boundary using TensorFlow"
   ]
  },
  {
   "cell_type": "markdown",
   "id": "22124b17",
   "metadata": {},
   "source": [
    "### Building a Perceptron Model\n",
    "\n",
    "Dataset: x, y coordinates as inputs with binary outputs for classification\n",
    "Blue = 0, red = 1\n",
    "Goal is to learn the relationship between \u000bpetal width, stem height, and color\n",
    "Need to choose learning rate, number\u000bof epochs, activation function, and \u000boptimizer\n",
    "Activation function: sigmoid (easy deriv.)\n",
    "Optimizer: standard gradient descent"
   ]
  },
  {
   "cell_type": "code",
   "execution_count": null,
   "id": "7ca6d270-f2a2-4337-8ccf-a10964114c72",
   "metadata": {
    "id": "7ca6d270-f2a2-4337-8ccf-a10964114c72"
   },
   "outputs": [],
   "source": [
    "import numpy as np\n",
    "import matplotlib.pyplot as plt\n",
    "import pandas as pd\n",
    "from tensorflow.keras.models import Sequential\n",
    "from tensorflow.keras.layers import Input, Dense\n",
    "# Note that different model APIs are loaded through tensorflow.keras.models (Sequential is an easy one to use)\n",
    "# We load different layers from tensorflow.keras.layers (easy enough right?)"
   ]
  },
  {
   "cell_type": "markdown",
   "id": "1e409bb6-d1e3-4786-88e4-d7ec28df5d81",
   "metadata": {
    "id": "1e409bb6-d1e3-4786-88e4-d7ec28df5d81"
   },
   "source": [
    "We define options and load data as we did before"
   ]
  },
  {
   "cell_type": "code",
   "execution_count": null,
   "id": "84e7725e-769c-41da-8502-a59476b830e0",
   "metadata": {
    "id": "84e7725e-769c-41da-8502-a59476b830e0"
   },
   "outputs": [],
   "source": [
    "# Options\n",
    "epochs = 500\n",
    "batch_size = 4\n",
    "# Load data\n",
    "data = pd.read_csv('https://raw.githubusercontent.com/HelioAnalytics/EPSCOR_Hackweek/main/Course%20Materials/flowers.csv',header=None,index_col=None).values\n",
    "x = data[:,:2]\n",
    "y = data[:,2]"
   ]
  },
  {
   "cell_type": "markdown",
   "id": "52ce2783-e8d9-40e0-b2ab-938fa68968fb",
   "metadata": {
    "id": "52ce2783-e8d9-40e0-b2ab-938fa68968fb"
   },
   "source": [
    "Now we will define the model. First we define the variable `model` as `Sequential()`. Therefore, operations to `model` will be tied to this. We add an input layer and a dense (fully connected) layer to `model`. TensorFlow now knows (due to the Sequential API) that it goes Input then Dense. We also compile the model telling it what the loss function is (`mse` = mean squared error) and how the weights will be updated - through the optimizer (`sgd` = standard gradient descent)."
   ]
  },
  {
   "cell_type": "code",
   "execution_count": null,
   "id": "48ef84bd-e786-4850-a6c1-77b779728b4b",
   "metadata": {
    "id": "48ef84bd-e786-4850-a6c1-77b779728b4b"
   },
   "outputs": [],
   "source": [
    "model = Sequential()\n",
    "model.add(Input(shape=(x.shape[1])))\n",
    "model.add(Dense(units=1,activation='sigmoid'))\n",
    "model.compile(loss='mse',optimizer='sgd')"
   ]
  },
  {
   "cell_type": "markdown",
   "id": "3a104fa6-3844-4f11-a5b3-2fd19bb0e7f6",
   "metadata": {
    "id": "3a104fa6-3844-4f11-a5b3-2fd19bb0e7f6"
   },
   "source": [
    "Calling `model.fit` will train the model for a given number of epochs and with a specified batch size. There are more parameters to choose (see https://www.tensorflow.org/api_docs/python/tf/keras/Model#fit). `verbose=0` means it won't show anything while it trains. You can see the training process if you change `verbose` to 1 (full output) or 2 (output after each epoch)."
   ]
  },
  {
   "cell_type": "code",
   "execution_count": null,
   "id": "3cd556ca-cd49-48fd-a98e-482423f19ee9",
   "metadata": {
    "colab": {
     "base_uri": "https://localhost:8080/"
    },
    "id": "3cd556ca-cd49-48fd-a98e-482423f19ee9",
    "outputId": "1d1687a5-7ee0-4f5c-bdf2-d8493fc401a6"
   },
   "outputs": [
    {
     "data": {
      "text/plain": [
       "<keras.callbacks.History at 0x7f2a8ee44a90>"
      ]
     },
     "execution_count": 4,
     "metadata": {},
     "output_type": "execute_result"
    }
   ],
   "source": [
    "model.fit(x,y,epochs=epochs,batch_size=batch_size,verbose=0)"
   ]
  },
  {
   "cell_type": "markdown",
   "id": "d0407444-a374-4fd0-a2fb-45269d945881",
   "metadata": {
    "id": "d0407444-a374-4fd0-a2fb-45269d945881"
   },
   "source": [
    "Here we are just plotting the data and discrimination line as we did before. NOTE: we change how the model is used in the `plot_line` function. Look for the `model.predict` call."
   ]
  },
  {
   "cell_type": "code",
   "execution_count": null,
   "id": "ab5852c3-7504-48f9-9658-f6dcd0c1446f",
   "metadata": {
    "colab": {
     "base_uri": "https://localhost:8080/",
     "height": 309
    },
    "id": "ab5852c3-7504-48f9-9658-f6dcd0c1446f",
    "outputId": "c30f52ce-d125-462f-813a-1c223fb06ef8"
   },
   "outputs": [
    {
     "data": {
      "image/png": "[encoded data removed]",
      "text/plain": [
       "<Figure size 432x288 with 1 Axes>"
      ]
     },
     "metadata": {
      "needs_background": "light"
     },
     "output_type": "display_data"
    }
   ],
   "source": [
    "# Plotting function\n",
    "def plot_line(ax,model):\n",
    "    # first, traverse up left edge of plot and find where model predicts blue\n",
    "    y_test = np.linspace(0,4,100)\n",
    "    cL = 0\n",
    "    while model.predict(np.array([[0.9,y_test[cL]]])) > 0.5 and cL < len(y_test)-1:\n",
    "        cL += 1\n",
    "    # next, traverse up right edge of plot and find where model predicts blue\n",
    "    cR = 0\n",
    "    while model.predict(np.array([[3.1,y_test[cR]]])) > 0.5 and cR < len(y_test)-1:\n",
    "        cR += 1\n",
    "    # plot line that goes through the boundary discrimination points\n",
    "    line1, = ax.plot([0.9,3.1],[y_test[cL],y_test[cR]],color='black')\n",
    "    return line1 # return line object, so we can delete it before plotting another line\n",
    "# Plot data and results\n",
    "fig,ax=plt.subplots()\n",
    "ax.scatter(data[data[:,2]==0,0],data[data[:,2]==0,1],color='blue',label='Iris')\n",
    "ax.scatter(data[data[:,2]==1,0],data[data[:,2]==1,1],color='red',label='Rose')\n",
    "ax.set_xlabel('Petal Width')\n",
    "ax.set_ylabel('Stem Height')\n",
    "ax.set_xlim([0.95,3.05])\n",
    "ax.set_ylim([-0.05,4.25])\n",
    "fig.legend(ncol=2,loc='upper center')\n",
    "line1 = plot_line(ax,model)"
   ]
  }
 ],
 "metadata": {
  "colab": {
   "provenance": []
  },
  "kernelspec": {
   "display_name": "Python 3",
   "language": "python",
   "name": "python3"
  },
  "language_info": {
   "codemirror_mode": {
    "name": "ipython",
    "version": 3
   },
   "file_extension": ".py",
   "mimetype": "text/x-python",
   "name": "python",
   "nbconvert_exporter": "python",
   "pygments_lexer": "ipython3",
   "version": "3.8.8"
  }
 },
 "nbformat": 4,
 "nbformat_minor": 5
}
