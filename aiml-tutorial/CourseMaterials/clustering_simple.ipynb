{
 "cells": [
  {
   "cell_type": "markdown",
   "id": "19214828-776a-4c6f-86a5-0fa805dcfc92",
   "metadata": {},
   "source": [
    "# Clustering Example #"
   ]
  },
  {
   "cell_type": "markdown",
   "id": "c355f783-b313-4bda-883c-60731f841875",
   "metadata": {},
   "source": [
    "Clustering is a very common problem in data science. It has a common approach to unlabeled data, and is a good place to start to learn machine learning.  "
   ]
  },
  {
   "cell_type": "code",
   "execution_count": 9,
   "id": "7ca6d270-f2a2-4337-8ccf-a10964114c72",
   "metadata": {
    "id": "7ca6d270-f2a2-4337-8ccf-a10964114c72"
   },
   "outputs": [],
   "source": [
    "import numpy as np\n",
    "import matplotlib.pyplot as plt"
   ]
  },
  {
   "cell_type": "markdown",
   "id": "91f157d5-fbc2-4e42-a2d8-6ecc64a5f245",
   "metadata": {
    "id": "91f157d5-fbc2-4e42-a2d8-6ecc64a5f245"
   },
   "source": [
    "This exercise only requires `numpy` and `matplotlib`.\n",
    "\n",
    "In this case the three elements of the machine learning model are\n",
    "- Experience/Data/Input: a collection of data points in 2-d space \n",
    "- Task: Identify the way that the data points are clustered. Separate the data groups into `nc` clusters.\n",
    "- Performance/Cost function: Minimize the total distances between the data points and the centroid that they are associated with."
   ]
  },
  {
   "cell_type": "markdown",
   "id": "1e409bb6-d1e3-4786-88e4-d7ec28df5d81",
   "metadata": {
    "id": "1e409bb6-d1e3-4786-88e4-d7ec28df5d81"
   },
   "source": [
    "We choose `nc` which is the number of centroids. We then randomly generate data to be in three areas of the x-y space. They are assigned different distribution sizes through `amp`.  The last line (concatenating the data with zeros) is to create a column where we can assign a centroid/color."
   ]
  },
  {
   "cell_type": "code",
   "execution_count": 10,
   "id": "84e7725e-769c-41da-8502-a59476b830e0",
   "metadata": {
    "id": "84e7725e-769c-41da-8502-a59476b830e0"
   },
   "outputs": [],
   "source": [
    "nc = 3\n",
    "amp = [1,2,3]\n",
    "dat1 = amp[0]*np.random.rand(25,2) + 6\n",
    "dat1[:,0] -= 3\n",
    "dat2 = amp[1]*np.random.rand(25,2) + 1\n",
    "dat3 = amp[2]*np.random.rand(25,2) + 3\n",
    "dat3[:,0] += 4\n",
    "dat = np.concatenate((dat1,dat2,dat3),axis=0)\n",
    "dat = np.concatenate((dat,np.zeros(shape=(dat.shape[0],1))),axis=1)"
   ]
  },
  {
   "cell_type": "markdown",
   "id": "52ce2783-e8d9-40e0-b2ab-938fa68968fb",
   "metadata": {
    "id": "52ce2783-e8d9-40e0-b2ab-938fa68968fb"
   },
   "source": [
    "Next, we choose three initial centroid locations `cent`. They are fixed to have a starting \"hypothesis\" near the center of the distribution. You can change which line is commented to generate random initial centroid locations."
   ]
  },
  {
   "cell_type": "code",
   "execution_count": 3,
   "id": "hOMiAidBLfoW",
   "metadata": {
    "id": "hOMiAidBLfoW"
   },
   "outputs": [],
   "source": [
    "#cent = 5*np.random.rand(nc,2) + 2\n",
    "cent = np.array([[4,4],[4,4.5],[3.9,4.4]])"
   ]
  },
  {
   "cell_type": "markdown",
   "id": "bkUMtQEtLfxd",
   "metadata": {
    "id": "bkUMtQEtLfxd"
   },
   "source": [
    "Let's plot the data and current centroids. You'll see the three distinct groupings and can probably tell where the three centroids will end up. Through the K-means iterations, the samples will be assigned to the closest centroid and the color will show that."
   ]
  },
  {
   "cell_type": "code",
   "execution_count": 4,
   "id": "BZRXvArDLqYh",
   "metadata": {
    "colab": {
     "base_uri": "https://localhost:8080/",
     "height": 282
    },
    "id": "BZRXvArDLqYh",
    "outputId": "e7ac01fc-4e7e-47a6-f17a-eb1b063b2b0b"
   },
   "outputs": [
    {
     "data": {
      "text/plain": [
       "<matplotlib.collections.PathCollection at 0x7f7adb1d0d60>"
      ]
     },
     "execution_count": 4,
     "metadata": {},
     "output_type": "execute_result"
    },
    {
     "data": {
      "image/png": "[encoded data removed]",
      "text/plain": [
       "<Figure size 432x288 with 1 Axes>"
      ]
     },
     "metadata": {
      "needs_background": "light"
     },
     "output_type": "display_data"
    }
   ],
   "source": [
    "fig,ax=plt.subplots()\n",
    "plt.scatter(dat[:,0],dat[:,1],color='black')\n",
    "plt.scatter(cent[0,0],cent[0,1],color='blue',s=400)\n",
    "plt.scatter(cent[1,0],cent[1,1],color='red',s=400)\n",
    "plt.scatter(cent[2,0],cent[2,1],color='green',s=400)"
   ]
  },
  {
   "cell_type": "markdown",
   "id": "EsTFxlg4LqgE",
   "metadata": {
    "id": "EsTFxlg4LqgE"
   },
   "source": [
    "A major part of data science is data exploration - get to know your data first!! If you hadn't created this\n",
    "dataset yourself, you wouldn't know that there appear to be three clusters. \n",
    "\n",
    "K-means is a method that looks for a way to organize a pre-defined number of clusters.  That means the model is given the number of clusters \n",
    "``nc`` at the start.  \n",
    "\n",
    "Next is the heart of the model. This is the definition of the K-means function which will iterate until it converges on a classification of all samples. "
   ]
  },
  {
   "cell_type": "code",
   "execution_count": 5,
   "id": "48ef84bd-e786-4850-a6c1-77b779728b4b",
   "metadata": {
    "id": "48ef84bd-e786-4850-a6c1-77b779728b4b"
   },
   "outputs": [],
   "source": [
    "def k_means(dat,cent,nc):\n",
    "    # any sample with the last column of 0, 1, or 2 is associated with the 1st, 2nd, or 3rd centroid, respectively\n",
    "    c1 = dat[dat[:,2]==0,:2]\n",
    "    c2 = dat[dat[:,2]==1,:2]\n",
    "    c3 = dat[dat[:,2]==2,:2]\n",
    "    # initialize the condition for the while loop and start the iteration counter\n",
    "    k = 2\n",
    "    counter = 0\n",
    "    while k > 0:\n",
    "        orig = dat[:,2] # this determines the initial \"classification\" of each sample\n",
    "        # the next 5 lines compute the distance of each sample to all centroids then finds the closest centroid for each sample\n",
    "        for i in range(dat.shape[0]):\n",
    "            dist = np.zeros(nc)\n",
    "            for j in range(nc):\n",
    "                dist[j] = np.sqrt(np.sum(np.power(dat[i,:2]-cent[j,:],2)))\n",
    "            dat[i,2] = np.argmin(dist)\n",
    "        # next we are assigning each sample a label according to its closest centroid\n",
    "        c1 = dat[dat[:,2]==0,:2]\n",
    "        c2 = dat[dat[:,2]==1,:2]\n",
    "        c3 = dat[dat[:,2]==2,:2]\n",
    "        # move the centroids closer to the samples assigned to it\n",
    "        if c1.shape[0] != 0:\n",
    "            cent[0,0] -= np.sum(cent[0,0]-c1[:,0])/c1.shape[0]\n",
    "            cent[0,1] -= np.sum(cent[0,1]-c1[:,1])/c1.shape[0]\n",
    "        if c2.shape[0] != 0:\n",
    "            cent[1,0] -= np.sum(cent[1,0]-c2[:,0])/c2.shape[0]\n",
    "            cent[1,1] -= np.sum(cent[1,1]-c2[:,1])/c2.shape[0]\n",
    "        if c3.shape[0] != 0:\n",
    "            cent[2,0] -= np.sum(cent[2,0]-c3[:,0])/c3.shape[0]\n",
    "            cent[2,1] -= np.sum(cent[2,1]-c3[:,1])/c3.shape[0]\n",
    "        # recompute distances with updated centroid locations\n",
    "        new = np.zeros(len(orig))\n",
    "        for i in range(dat.shape[0]):\n",
    "            dist = np.zeros(nc)\n",
    "            for j in range(nc):\n",
    "                dist[j] = np.sqrt(np.sum(np.power(dat[i,:2]-cent[j,:],2)))\n",
    "            new[i] = np.argmin(dist)\n",
    "        # find out how many samples changed their assignment\n",
    "        k = np.sum(np.abs(orig-new))\n",
    "    return c1,c2,c3,cent"
   ]
  },
  {
   "cell_type": "markdown",
   "id": "3a104fa6-3844-4f11-a5b3-2fd19bb0e7f6",
   "metadata": {
    "id": "3a104fa6-3844-4f11-a5b3-2fd19bb0e7f6"
   },
   "source": [
    "Run the `k_means` function."
   ]
  },
  {
   "cell_type": "code",
   "execution_count": 6,
   "id": "3cd556ca-cd49-48fd-a98e-482423f19ee9",
   "metadata": {
    "id": "3cd556ca-cd49-48fd-a98e-482423f19ee9"
   },
   "outputs": [],
   "source": [
    "c1,c2,c3,cent = k_means(dat,cent,nc)"
   ]
  },
  {
   "cell_type": "markdown",
   "id": "d0407444-a374-4fd0-a2fb-45269d945881",
   "metadata": {
    "id": "d0407444-a374-4fd0-a2fb-45269d945881"
   },
   "source": [
    "Plot final results."
   ]
  },
  {
   "cell_type": "code",
   "execution_count": 7,
   "id": "ab5852c3-7504-48f9-9658-f6dcd0c1446f",
   "metadata": {
    "colab": {
     "base_uri": "https://localhost:8080/",
     "height": 282
    },
    "id": "ab5852c3-7504-48f9-9658-f6dcd0c1446f",
    "outputId": "7e6c6e10-c93c-4ec6-ef34-95b38c940406"
   },
   "outputs": [
    {
     "data": {
      "text/plain": [
       "<matplotlib.collections.PathCollection at 0x7f7ae8274b50>"
      ]
     },
     "execution_count": 7,
     "metadata": {},
     "output_type": "execute_result"
    },
    {
     "data": {
      "image/png": "[encoded data removed]",
      "text/plain": [
       "<Figure size 432x288 with 1 Axes>"
      ]
     },
     "metadata": {
      "needs_background": "light"
     },
     "output_type": "display_data"
    }
   ],
   "source": [
    "fig,ax=plt.subplots()\n",
    "plt.scatter(c1[:,0],c1[:,1],color='blue')\n",
    "plt.scatter(c2[:,0],c2[:,1],color='red')\n",
    "plt.scatter(c3[:,0],c3[:,1],color='green')\n",
    "plt.scatter(cent[0,0],cent[0,1],color='blue',s=400)\n",
    "plt.scatter(cent[1,0],cent[1,1],color='red',s=400)\n",
    "plt.scatter(cent[2,0],cent[2,1],color='green',s=400)\n",
    "initial_cent=np.array([[2,2],[8.5,4.5],[3.5,6.5]])\n",
    "plt.scatter(initial_cent[:,0],initial_cent[:,1],color='black',s=200)"
   ]
  },
  {
   "cell_type": "markdown",
   "id": "76de476a-b8e3-4b6c-8b44-79ca62f1222f",
   "metadata": {},
   "source": [
    "Let us compare the initial with the final results: "
   ]
  },
  {
   "cell_type": "code",
   "execution_count": 8,
   "id": "54e202c2-b68d-44cb-89a7-b61a421f6b7c",
   "metadata": {},
   "outputs": [
    {
     "name": "stdout",
     "output_type": "stream",
     "text": [
      "initial centroid #1 : [2. 2.] model centroid #1: [2.02519845 2.10366718]\n",
      "initial centroid #2 : [8.5 4.5] model centroid #2: [8.54148477 4.40422715]\n",
      "initial centroid #3 : [3.5 6.5] model centroid #3: [3.56285013 6.57314099]\n"
     ]
    }
   ],
   "source": [
    "print('initial centroid #1 :',initial_cent[0,:],'model centroid #1:',cent[0,:])\n",
    "print('initial centroid #2 :',initial_cent[1,:],'model centroid #2:',cent[1,:])\n",
    "print('initial centroid #3 :',initial_cent[2,:],'model centroid #3:',cent[2,:])"
   ]
  },
  {
   "cell_type": "markdown",
   "id": "92b99d68-d9de-4017-aa8d-0e75ae500f6c",
   "metadata": {},
   "source": [
    "# Exploration Exercises"
   ]
  },
  {
   "cell_type": "markdown",
   "id": "8080a347-1fa3-46ba-8cd3-7eb6dfc28f52",
   "metadata": {},
   "source": [
    "1) The model centroids are close to the initial values. Change the number of data points in the generated distribution to see how this effects the model.\n",
    "2) The distributions in the example are well separated in space. Modify the distribution size `amp` so that they overlap and observe the model's performance.\n",
    "3) The model was tasked with finding a number of clusters that correspond to the generated distribution. What if the number of clusters given was larger or smaller? Explore the performance by changing `nc` to be different from the number of clusters in the generated distribution. How would you determine the optimal number of clusters? \n",
    "4) What is the cost function or performance measure for this model? What is another possible cost function that could be implemented?  How would the model's performance change?  \n",
    "5) This example involves a two-dimensional distribution. Modify the example to explore a three-dimensional distribution. "
   ]
  },
  {
   "cell_type": "markdown",
   "id": "9fbce74b-f448-4d1f-9251-c8aecabd0e8f",
   "metadata": {},
   "source": [
    "# Applications in Heliophysics #"
   ]
  },
  {
   "cell_type": "markdown",
   "id": "aa2026aa-5526-41d6-b73c-467d0186fb3d",
   "metadata": {},
   "source": [
    "Where would clustering be useful in Heliophysics? One example involves solar wind data, where there are\n",
    "many variables and known \"clusters\" such as fast speed solar wind, solar solar wind, shocked plasma, and ICME (plasma inside a coronal mass ejection.  <a href=\"https://iopscience.iop.org/article/10.3847/1538-4357/ab5a7a/meta\"><i>Roberts et al. (2020)</i></a> did this with solar wind data.  \n",
    "Because K-means only looks at linear distances between variables, the authors added supplemental variables such as ``cross-helicity`` and ``residual energy``. \n",
    "\n",
    "A major disadvantage of K-means is that it only organizes data based on its latent space. If there are separations that are clear in the way that the data are already organized, K-means can be an excellent way to approach this. One can also do some preliminary organization of data, such as deriving the variable Alfven speed. However, what if there are organizational properties that you're not aware of?\n",
    "\n",
    "Other clustering methods such as TSNE and UMAP allow deeper examination of organizational properties.  <a href=\"https://link.springer.com/article/10.1007/s11207-020-01609-z\"><i>Bloch et al. (2020)</i></a> performed a similar examination of solar wind data to <i>Roberts et al. (2020)</i>, using the UMAP model.  The <a href=\"https://helioml.org/10/Unsupervised_Classification_of_Solar_Wind_Source_Regions.html\">full <i>Bloch et al.</i> dataset and notebooks are available</a> from the <a href=\"https://helioml.org\">helioml.org</a> online textbook. helioml.org has many other examples of heliophysics research projects using machine learning."
   ]
  },
  {
   "cell_type": "markdown",
   "id": "b1812f49-d067-4d38-b32d-122b24e2a190",
   "metadata": {},
   "source": [
    "# Acknowledgments: # \n",
    "E. Gizzi Ph.D.\n",
    "\n",
    "<a href=\"helioml.org\">HelioML</a> textbook"
   ]
  }
 ],
 "metadata": {
  "colab": {
   "provenance": []
  },
  "kernelspec": {
   "display_name": "Python 3",
   "language": "python",
   "name": "python3"
  },
  "language_info": {
   "codemirror_mode": {
    "name": "ipython",
    "version": 3
   },
   "file_extension": ".py",
   "mimetype": "text/x-python",
   "name": "python",
   "nbconvert_exporter": "python",
   "pygments_lexer": "ipython3",
   "version": "3.9.6"
  }
 },
 "nbformat": 4,
 "nbformat_minor": 5
}
