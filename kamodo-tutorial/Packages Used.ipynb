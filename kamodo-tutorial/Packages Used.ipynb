{
 "cells": [
  {
   "cell_type": "code",
   "execution_count": null,
   "id": "1b7b7acf",
   "metadata": {},
   "outputs": [],
   "source": [
    "from kamodo import lambdify, parse_expr, Kamodo, kamodofy, gridify, get_defaults\n",
    "from kamodo.plotting import plot_types\n",
    "import kamodo_ccmc.flythrough.model_wrapper as MW\n",
    "from kamodo_ccmc.tools.plotfunctions import figMods\n",
    "\n",
    "from sympy import solve, symbols, srepr\n",
    "\n",
    "from scipy.interpolate import RegularGridInterpolator\n",
    "\n",
    "import numpy as np\n",
    "\n",
    "import pandas as pd\n",
    "\n",
    "from time import perf_counter\n",
    "\n",
    "from datetime import timedelta\n",
    "\n",
    "import plotly.graph_objs as go\n",
    "import plotly.io as pio"
   ]
  }
 ],
 "metadata": {
  "kernelspec": {
   "display_name": "Python 3 (ipykernel)",
   "language": "python",
   "name": "python3"
  },
  "language_info": {
   "codemirror_mode": {
    "name": "ipython",
    "version": 3
   },
   "file_extension": ".py",
   "mimetype": "text/x-python",
   "name": "python",
   "nbconvert_exporter": "python",
   "pygments_lexer": "ipython3",
   "version": "3.7.13"
  }
 },
 "nbformat": 4,
 "nbformat_minor": 5
}
